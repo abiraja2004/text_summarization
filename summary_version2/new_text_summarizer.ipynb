{
 "cells": [
  {
   "cell_type": "code",
   "execution_count": 1,
   "metadata": {
    "collapsed": false
   },
   "outputs": [
    {
     "name": "stdout",
     "output_type": "stream",
     "text": [
      "[nltk_data] Downloading package stopwords to\n",
      "[nltk_data]     C:\\Users\\kvoronaya\\AppData\\Roaming\\nltk_data...\n",
      "[nltk_data]   Package stopwords is already up-to-date!\n",
      "[nltk_data] Downloading package wordnet to\n",
      "[nltk_data]     C:\\Users\\kvoronaya\\AppData\\Roaming\\nltk_data...\n",
      "[nltk_data]   Package wordnet is already up-to-date!\n"
     ]
    },
    {
     "data": {
      "text/plain": [
       "True"
      ]
     },
     "execution_count": 1,
     "metadata": {},
     "output_type": "execute_result"
    }
   ],
   "source": [
    "'''\n",
    "Automatic summarization using Gensim module.\n",
    "This summarizer is based on the improved \"TextRank\" algorithm,\n",
    "and uses \"BM25 ranking function\".\n",
    "\n",
    "To install:\n",
    "conda install -c anaconda gensim=0.12.4\n",
    "\n",
    "Extract articles from on of the trusted websites: \n",
    "http://www.psychiatrictimes.com/\n",
    "\n",
    "'''\n",
    "\n",
    "from gensim.summarization import summarize, keywords\n",
    "import lxml.html as html\n",
    "\n",
    "# using of NLTK for removing of stop words, stemming and lemmatization\n",
    "import nltk\n",
    "from nltk.corpus import stopwords\n",
    "from nltk.stem.lancaster import LancasterStemmer\n",
    "from nltk.stem import WordNetLemmatizer\n",
    "\n",
    "# download corpuses\n",
    "nltk.download(\"stopwords\")\n",
    "nltk.download('wordnet')"
   ]
  },
  {
   "cell_type": "code",
   "execution_count": 2,
   "metadata": {
    "collapsed": true
   },
   "outputs": [],
   "source": [
    "base_url = 'http://www.psychiatrictimes.com'\n",
    "\n",
    "# interested only in schizophrenia and ADHD topics\n",
    "schizophrenia_path = base_url + '/schizophrenia'\n",
    "adhd_path = base_url + '/adhd'"
   ]
  },
  {
   "cell_type": "code",
   "execution_count": 7,
   "metadata": {
    "collapsed": true
   },
   "outputs": [],
   "source": [
    "def get_corpus_specific_topic(path):\n",
    "    schizophrenia_corpus = {}\n",
    "    adhd_corpus = {}\n",
    "    \n",
    "    main_page = html.parse(path)\n",
    "    url_xpath = '//div[contains(@class, \"pane-content-arguments-panel-pane-\")]//div[contains(@class, \"field-name-title\")]//a/@href'\n",
    "    # will extract articles which posted on the main page (so recent articles)\n",
    "    articles_urls = main_page.getroot().xpath(url_xpath)\n",
    "    \n",
    "    articles = []\n",
    "    titles = []\n",
    "    authors = []\n",
    "    publication_dates = []\n",
    "\n",
    "    for url in articles_urls:\n",
    "        page = html.parse(base_url + url)\n",
    "\n",
    "        article_title = page.getroot().xpath('//div[contains(@class, \"pane-page-title\")]//h1/text()')\n",
    "        titles.append(article_title)\n",
    "\n",
    "        article_author = page.getroot().xpath('//div[@class=\"article-author\"]//a/text()')\n",
    "        authors.append(article_author)\n",
    "\n",
    "        publication_date = page.getroot().xpath('//div[contains(@class, \"article-info\")]//div[@class=\"pane-content\"]/text()')\n",
    "        publication_dates.append(publication_date)\n",
    "\n",
    "        full_article_text = page.getroot().xpath('//div[contains(@class, \"field-name-body\")]//p/text()')\n",
    "        full_article_text = ''.join(full_article_text)\n",
    "        articles.append(full_article_text)\n",
    "    \n",
    "    if 'schizophrenia' in path:\n",
    "        schizophrenia_corpus['articles'] = articles\n",
    "        schizophrenia_corpus['titles'] = titles\n",
    "        schizophrenia_corpus['authors'] = authors\n",
    "        schizophrenia_corpus['publication_dates'] = publication_dates\n",
    "        return schizophrenia_corpus\n",
    "\n",
    "    if 'adhd' in path:\n",
    "        adhd_corpus['articles'] = articles\n",
    "        adhd_corpus['titles'] = titles\n",
    "        adhd_corpus['authors'] = authors\n",
    "        adhd_corpus['publication_dates'] = publication_dates\n",
    "        return adhd_corpus\n",
    "    "
   ]
  },
  {
   "cell_type": "code",
   "execution_count": 8,
   "metadata": {
    "collapsed": true
   },
   "outputs": [],
   "source": [
    "schizophrenia_corpus = get_corpus_specific_topic(schizophrenia_path)"
   ]
  },
  {
   "cell_type": "code",
   "execution_count": 9,
   "metadata": {
    "collapsed": true
   },
   "outputs": [],
   "source": [
    "adhd_corpus = get_corpus_specific_topic(adhd_path)"
   ]
  },
  {
   "cell_type": "code",
   "execution_count": 14,
   "metadata": {
    "collapsed": false
   },
   "outputs": [
    {
     "name": "stdout",
     "output_type": "stream",
     "text": [
      "Today received 7 new articles for topic schizophrenia.\n"
     ]
    }
   ],
   "source": [
    "print('Today received {} new articles for topic schizophrenia.'.format(len(schizophrenia_corpus['articles'])))"
   ]
  },
  {
   "cell_type": "code",
   "execution_count": 15,
   "metadata": {
    "collapsed": false
   },
   "outputs": [
    {
     "name": "stdout",
     "output_type": "stream",
     "text": [
      "Today received 7 new articles for topic ADHD.\n"
     ]
    }
   ],
   "source": [
    "print('Today received {} new articles for topic ADHD.'.format(len(adhd_corpus['articles'])))"
   ]
  },
  {
   "cell_type": "code",
   "execution_count": 22,
   "metadata": {
    "collapsed": false
   },
   "outputs": [],
   "source": [
    "def print_article_schizophrenia_corpus(article_number):\n",
    "    print('********** Example of one of the article: *********')\n",
    "    print('The title is: {}'.format(schizophrenia_corpus['titles'][article_number][0]))\n",
    "    print('The authors are: {}'.format(schizophrenia_corpus['authors'][article_number][0]))\n",
    "    print('The date of publication is: {}'.format(schizophrenia_corpus['publication_dates'][article_number][0]))\n",
    "    print(schizophrenia_corpus['articles'][article_number])\n",
    "    \n",
    "def print_article_adhd_corpus(article_number):\n",
    "    print('********** Example of one of the article: *********')\n",
    "    print('The title is: {}'.format(adhd_corpus['titles'][article_number][0]))\n",
    "    print('The authors are: {}'.format(adhd_corpus['authors'][article_number][0]))\n",
    "    print('The date of publication is: {}'.format(adhd_corpus['publication_dates'][article_number][0]))\n",
    "    print(adhd_corpus['articles'][article_number])  "
   ]
  },
  {
   "cell_type": "code",
   "execution_count": 23,
   "metadata": {
    "collapsed": false
   },
   "outputs": [
    {
     "name": "stdout",
     "output_type": "stream",
     "text": [
      "********** Example of one of the article: *********\n",
      "The title is: Adjunctive Topiramate in People With Schizophrenia\n",
      "The authors are: Brian Miller, MD, PhD, MPH\n",
      "The date of publication is: \n",
      "    September 29, 2016\n",
      "\n",
      "Many patients with schizophrenia experience residual symptoms despite currently available treatments that affect quality of life and overall function. Treatment with a variety of different agents—as adjuncts to antipsychotics—has either failed to show consistent, robust effects on psychopathology, or needs replication in larger studies.By contrast, several pharmacologic strategies, including adjunctive topiramate, have been successful in reducing antipsychotic-induced weight gain.Topiramate is approved by the US FDA as an anti-epileptic and anti-migraine treatment. In patients with epilepsy and obesity and/or type 2 diabetes mellitus, topiramate has been associated with weight loss and improved glucose homeostasis, potentially through appetite reduction.Previous quantitative reviews of topiramate’s effect on weight in antipsychotic-treated patients included those who did not have schizophrenia, and reviews of its effect on psychopathology focused on patients treated with clozapine. conducted a meta-analysis of all randomized trials of topiramate, given as an adjunct to antipsychotics, in patients with schizophrenia. In a systematic search of PubMed/MEDLINE, the researchers looked for all published studies of antipsychotic augmentation with topiramate in patients with schizophrenia-spectrum disorders (both randomized, placebo-controlled trials or open-label trials with an untreated control group).The primary outcome was change in total score on either the Positive and Negative Syndrome Scale (PANSS) or the Brief Psychiatric Rating Scale (BPRS). Secondary outcomes included PANSS subscales, all-cause discontinuation, weight or BMI, glucose and lipids levels, and adverse effects.The initial database search yielded 309 results. Based on titles and abstracts, full-text versions were retrieved for 36 articles. Eight trials, lasting a mean 13.6 (range, 8-24) weeks, that comprised 439 patients randomized to topiramate (100-400 mg/d) or either placebo (7 trials) or continuation of antipsychotic without placebo (1 trial) were eligible for inclusion.The study sample had a mean age of 39, mean BMI of 27, mean baseline PANSS/BPRS score of 85/29, and was 64% male. Fifty-five percent of subjects were inpatients, and 89% had a diagnosis of schizophrenia.In 6 trials, topiramate was added to a stable dose of antipsychotic medication; in the other 2 trials, topiramate was started concurrently with antipsychotic medication.The authors found adjunctive  (versus placebo) was associated with a significantly greater reduction in PANSS/BPRS total score with a medium effect size (standard mean difference [SMD] = -0.57). Effects of topiramate were even more robust in trials in which the majority of patients were treated with .Adjunctive topiramate was also associated with significantly greater reduction in PANSS positive, negative, and general subscale scores.Furthermore, topiramate was associated with significantly lower body weight (SMD = -0.71) and BMI (SMD = -1.04), with medium-to-large and large effect sizes, respectively. One trial also found significant advantages for adjunctive topiramate regarding effects on insulin, glucose, and total and low-density lipoprotein cholesterol.Regarding adverse effects, all-cause discontinuation was similar between topiramate and control groups. There was a trend for more paresthesias with topiramate use (relative risk = 2.0), but otherwise no difference in adverse effects reported in at least 3 trials.The authors found evidence that adjunctive topiramate was associated with significantly greater reductions in psychopathology (particularly in clozapine-treated patients) and body weight.Other than an increase in paresthesias, there were no differences in adverse effects or all-cause discontinuation between topiramate and placebo. They concluded that topiramate may be a useful augmentation agent in patients with schizophrenia spectrum disorders. \n"
     ]
    }
   ],
   "source": [
    "print_article_schizophrenia_corpus(0)"
   ]
  },
  {
   "cell_type": "code",
   "execution_count": 24,
   "metadata": {
    "collapsed": false
   },
   "outputs": [
    {
     "name": "stdout",
     "output_type": "stream",
     "text": [
      "********** Example of one of the article: *********\n",
      "The title is: Understanding the Link Between Lead Toxicity and ADHD\n",
      "The authors are: Joel T. Nigg, PhD\n",
      "The date of publication is: \n",
      "    September 30, 2016\n",
      "Several neurotoxic chemicals can disrupt brain development, which contributes to neurodevelopmental and psychiatric disorders—including ADHD. Lead is among the most studied neurotoxicants relevant to mental disorders. Because lead is stable and inert, the total amount on earth never changes. Over the past 6000 years, people have mined about 300 million tons of lead; some 150 million tons are still dispersed in the environment in one form or another.\n",
      "\n",
      "Most exposure in children in the US (about 70%) occurs through lead paint in older houses, schools, and other buildings; or in surrounding soil and dust, which has accumulated and bound lead over the decades from airborne pollution. Other sources of exposure include water (leaching from lead in pipes, as in the recent Flint water crisis); and lead in imported toys, jewelry, candles, canned foods, candy wrappers, cosmetics, and poorly regulated dietary supplements. For those who live near airports, air pollution is a further source—airplane gasoline is still leaded. Pica is an obvious potential contributor when present in the child or mother.\n",
      "Lead’s effects on childhood IQ, ADHD, and conduct problems as well as physical health have been of concern for decades. We now know a great deal about how lead affects the brain, including disruption of signaling in the prefrontal cortex and striatum.\n",
      "\n",
      "During the evolutionary period, from one million years ago until 10,000 years ago, humans may have had a typical blood lead level of about 0.01 to 0.02 µg/dL, based on limited fossil data. This may be the best estimate of a “normal” level of lead for humans. Lead is fatal to children at 100 to 150 µg/dL—or 10,000 times the “normal” level. During the 19th and 20th century, the levels among American children spiked to around 30 to 50 µg/dL on average, with thousands of children killed and many others sickened and permanently injured by lead poisoning. This was the direct result of unrestrained commercial and industrial use of lead in gasoline, house paint, and other products.\n",
      "Lead’s poisonous properties were already known in antiquity. However, harm to children in modern times as a result of routine exposure to commercial products was first documented in the 1890s. By the 1920s lead’s harmful effect on child development was medically established, and several nations had begun to restrict or phase out lead paint. In parallel with subsequent industry activity related to health and societal threats from cigarettes, asbestos, aerosols and ozone, and climate change, industry groups and politicians in the US resisted restrictions on lead use in paint and other consumer products—ignoring or distorting the science—for much of the 20th century.\n",
      "Lead use was finally restricted in the US in the 1970s and phased out of gasoline and paint by 1986, which reduced the average lead level among children to about 1.0 µg/dL by the 2000s. This improved level, however, is still about 100 times the “normal” background level if the prehistoric fossil studies are close to accurate. At this level, acute toxicity is not observed. Instead, there are subtle effects on IQ and attention caused by alterations in neurodevelopment.\n",
      "Crucially for clinical reflection, this average still masks wide variation. Low income and racial and ethnic minority children can have levels much higher than average. Children in nations that do not regulate lead have exposure and blood lead levels higher than in the US as well.\n",
      "\n",
      "The correlational association of lead with conduct problems, IQ, and ADHD is well established. Goodlad and colleagues concluded from their comprehensive meta-analysis that the association of lead with symptoms of inattention was r = .03 to .25 with a point estimate of r = .16. This effect holds even at low, previously safe levels. While this is a small statistical effect, small effects have large public health consequences when exposures are widespread. The effect on ADHD and IQ results in part from lead’s disruption of executive functions.\n",
      "While many studies in the literature and the meta-analysis by Goodlad and colleagues assayed lead levels that were higher than are now common among the US population, several studies using varying methodology from 2005 to 2015 confirmed that blood lead level was associated with ADHD even at levels in the 0.5 to 3.0 µg/dL range, after control for many covariates. If there exists a “safe” level of lead for children, it is below the detection limit of the best mass spectroscopy instruments.\n",
      "\n"
     ]
    }
   ],
   "source": [
    "print_article_adhd_corpus(2)"
   ]
  },
  {
   "cell_type": "code",
   "execution_count": 32,
   "metadata": {
    "collapsed": false
   },
   "outputs": [],
   "source": [
    "def pre_process(list_words_from_article):\n",
    "    # remove stop-words\n",
    "    filtered_article_words = [word for word in list_words_from_article if word not in stopwords.words('english')]\n",
    "\n",
    "    wordnet_lemmatizer = WordNetLemmatizer()\n",
    "\n",
    "    # lemmatization process\n",
    "    lemmatization_words = []\n",
    "    for word in filtered_article_words:\n",
    "        lemm_word = wordnet_lemmatizer.lemmatize(word)\n",
    "        lemmatization_words.append(lemm_word)\n",
    "    \n",
    "    return lemmatization_words\n",
    "\n",
    "\n",
    "def pre_process_articles_chizophrenia_corpus(article_number):\n",
    "    list_words_from_article = schizophrenia_corpus['articles'][article_number].split()\n",
    "    return pre_process(list_words_from_article)\n",
    "\n",
    "\n",
    "def pre_process_articles_adhd_corpus(article_number):\n",
    "    list_words_from_article = adhd_corpus['articles'][article_number].split()\n",
    "    return pre_process(list_words_from_article)\n",
    "\n",
    "\n",
    "def get_keywords(modified_article, number_keywords):\n",
    "    print (' ******* Extracted Keywords ******* ')\n",
    "    extracted_keywords =  keywords(modified_article, words=number_keywords, scores=True, lemmatize=True)\n",
    "    for keyword in extracted_keywords:\n",
    "        print('{} - {}'.format(keyword[0], keyword[1]))\n",
    "        \n",
    "\n",
    "def get_summary_chizophrenia_corpus(article_number, summary_len, number_keywords):\n",
    "    modified_article = ' '.join(pre_process_articles_chizophrenia_corpus(article_number))\n",
    "    get_keywords(modified_article, number_keywords)\n",
    "    print(' ******* Summary ******* ')\n",
    "    summary = summarize(schizophrenia_corpus['articles'][article_number], word_count=summary_len)\n",
    "    print(summary)\n",
    "    \n",
    "def get_summary_adhd_corpus(article_number, summary_len, number_keywords):\n",
    "    modified_article = ' '.join(pre_process_articles_adhd_corpus(article_number))\n",
    "    get_keywords(modified_article, number_keywords)\n",
    "    print(' ******* Summary ******* ')\n",
    "    summary = summarize(adhd_corpus['articles'][article_number], word_count=summary_len)\n",
    "    print(summary)\n",
    "    "
   ]
  },
  {
   "cell_type": "code",
   "execution_count": 33,
   "metadata": {
    "collapsed": false
   },
   "outputs": [
    {
     "name": "stdout",
     "output_type": "stream",
     "text": [
      " ******* Extracted Keywords ******* \n",
      "topiramate - [ 0.39952913]\n",
      "trials - [ 0.22944226]\n",
      "patients - [ 0.21032806]\n",
      "antipsychotic - [ 0.20812922]\n",
      "effect - [ 0.20145513]\n",
      " ******* Summary ******* \n",
      "In a systematic search of PubMed/MEDLINE, the researchers looked for all published studies of antipsychotic augmentation with topiramate in patients with schizophrenia-spectrum disorders (both randomized, placebo-controlled trials or open-label trials with an untreated control group).The primary outcome was change in total score on either the Positive and Negative Syndrome Scale (PANSS) or the Brief Psychiatric Rating Scale (BPRS).\n",
      "There was a trend for more paresthesias with topiramate use (relative risk = 2.0), but otherwise no difference in adverse effects reported in at least 3 trials.The authors found evidence that adjunctive topiramate was associated with significantly greater reductions in psychopathology (particularly in clozapine-treated patients) and body weight.Other than an increase in paresthesias, there were no differences in adverse effects or all-cause discontinuation between topiramate and placebo.\n"
     ]
    }
   ],
   "source": [
    "get_summary_chizophrenia_corpus(0, 100, 5)"
   ]
  },
  {
   "cell_type": "code",
   "execution_count": 35,
   "metadata": {
    "collapsed": false
   },
   "outputs": [
    {
     "name": "stdout",
     "output_type": "stream",
     "text": [
      " ******* Extracted Keywords ******* \n",
      "leaded - [ 0.56953309]\n",
      "exposure child - [ 0.19004248]\n",
      "levels - [ 0.18172189]\n",
      "effect - [ 0.15911143]\n",
      "paint - [ 0.12044835]\n",
      "health - [ 0.11600123]\n",
      " ******* Summary ******* \n",
      "By the 1920s lead’s harmful effect on child development was medically established, and several nations had begun to restrict or phase out lead paint.\n",
      "Lead use was finally restricted in the US in the 1970s and phased out of gasoline and paint by 1986, which reduced the average lead level among children to about 1.0 µg/dL by the 2000s.\n",
      "Children in nations that do not regulate lead have exposure and blood lead levels higher than in the US as well.\n",
      "While many studies in the literature and the meta-analysis by Goodlad and colleagues assayed lead levels that were higher than are now common among the US population, several studies using varying methodology from 2005 to 2015 confirmed that blood lead level was associated with ADHD even at levels in the 0.5 to 3.0 µg/dL range, after control for many covariates.\n"
     ]
    }
   ],
   "source": [
    "get_summary_adhd_corpus(2, 120, 7)"
   ]
  },
  {
   "cell_type": "code",
   "execution_count": 40,
   "metadata": {
    "collapsed": false
   },
   "outputs": [
    {
     "name": "stdout",
     "output_type": "stream",
     "text": [
      "[nltk_data] Downloading package punkt to\n",
      "[nltk_data]     C:\\Users\\kvoronaya\\AppData\\Roaming\\nltk_data...\n",
      "[nltk_data]   Package punkt is already up-to-date!\n"
     ]
    },
    {
     "data": {
      "text/plain": [
       "True"
      ]
     },
     "execution_count": 40,
     "metadata": {},
     "output_type": "execute_result"
    }
   ],
   "source": [
    "from sklearn.feature_extraction.text import TfidfVectorizer\n",
    "from sklearn.metrics.pairwise import cosine_similarity\n",
    "import string\n",
    "\n",
    "nltk.download('punkt')"
   ]
  },
  {
   "cell_type": "code",
   "execution_count": 41,
   "metadata": {
    "collapsed": false
   },
   "outputs": [],
   "source": [
    "# remove morphological affixes from words, leaving only the word stem\n",
    "stemmer = nltk.stem.porter.PorterStemmer()\n",
    "\n",
    "def stem_tokens(tokens, stemmer):\n",
    "    stemmed = []\n",
    "    for item in tokens:\n",
    "        stemmed.append(stemmer.stem(item))\n",
    "    return stemmed\n",
    "\n",
    "def tokenize(text):\n",
    "    tokens = nltk.word_tokenize(text)\n",
    "    tokens = [i for i in tokens if i not in string.punctuation]\n",
    "    stems = stem_tokens(tokens, stemmer)\n",
    "    return stems\n",
    "\n",
    "# TF-IDF matrix for corpus \n",
    "corpus_tfidf = TfidfVectorizer(stop_words='english', tokenizer=tokenize)\n",
    "corpus_representation = corpus_tfidf.fit_transform(schizophrenia_corpus['articles'][0])\n",
    "\n",
    "feature = corpus_tfidf.get_feature_names()"
   ]
  },
  {
   "cell_type": "code",
   "execution_count": null,
   "metadata": {
    "collapsed": true
   },
   "outputs": [],
   "source": []
  }
 ],
 "metadata": {
  "kernelspec": {
   "display_name": "Python 2",
   "language": "python",
   "name": "python2"
  },
  "language_info": {
   "codemirror_mode": {
    "name": "ipython",
    "version": 2
   },
   "file_extension": ".py",
   "mimetype": "text/x-python",
   "name": "python",
   "nbconvert_exporter": "python",
   "pygments_lexer": "ipython2",
   "version": "2.7.11"
  }
 },
 "nbformat": 4,
 "nbformat_minor": 0
}
