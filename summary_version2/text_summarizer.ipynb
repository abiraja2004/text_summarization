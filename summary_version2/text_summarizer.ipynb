{
 "cells": [
  {
   "cell_type": "code",
   "execution_count": 55,
   "metadata": {
    "collapsed": false
   },
   "outputs": [],
   "source": [
    "'''\n",
    "Automatic summarization using Gensim module.\n",
    "This summarizer is based on the improved \"TextRank\" algorithm,\n",
    "and uses \"BM25 ranking function\".\n",
    "\n",
    "To install:\n",
    "conda install -c anaconda gensim=0.12.4\n",
    "\n",
    "Extract articles from on of the trusted websites: \n",
    "http://www.psychiatrictimes.com/\n",
    "\n",
    "'''\n",
    "\n",
    "from gensim.summarization import summarize, keywords\n",
    "import lxml.html as html"
   ]
  },
  {
   "cell_type": "code",
   "execution_count": 56,
   "metadata": {
    "collapsed": false
   },
   "outputs": [],
   "source": [
    "base_url = 'http://www.psychiatrictimes.com'\n",
    "# interested only in schizophrenia topic\n",
    "schizophrenia_path = base_url + '/schizophrenia'\n",
    "    \n",
    "main_page = html.parse(schizophrenia_path)\n",
    "url_xpath = '//div[contains(@class, \"pane-content-arguments-panel-pane-\")]//div[contains(@class, \"field-name-title\")]//a/@href'\n",
    "# will extract articles which posted on the main page (so recent articles)\n",
    "articles_urls = main_page.getroot().xpath(url_xpath)\n"
   ]
  },
  {
   "cell_type": "code",
   "execution_count": 57,
   "metadata": {
    "collapsed": false
   },
   "outputs": [],
   "source": [
    "articles = []\n",
    "titles = []\n",
    "authors = []\n",
    "publication_dates = []\n",
    "\n",
    "for url in articles_urls:\n",
    "    page = html.parse(base_url + url)\n",
    "    \n",
    "    article_title = page.getroot().xpath('//div[contains(@class, \"pane-page-title\")]//h1/text()')\n",
    "    titles.append(article_title)\n",
    "    \n",
    "    article_author = page.getroot().xpath('//div[@class=\"article-author\"]//a/text()')\n",
    "    authors.append(article_author)\n",
    "    \n",
    "    publication_date = page.getroot().xpath('//div[contains(@class, \"article-info\")]//div[@class=\"pane-content\"]/text()')\n",
    "    publication_dates.append(publication_date)\n",
    "    \n",
    "    full_article_text = page.getroot().xpath('//div[contains(@class, \"field-name-body\")]//p/text()')\n",
    "    full_article_text = ''.join(full_article_text)\n",
    "    articles.append(full_article_text)"
   ]
  },
  {
   "cell_type": "code",
   "execution_count": 58,
   "metadata": {
    "collapsed": false
   },
   "outputs": [
    {
     "name": "stdout",
     "output_type": "stream",
     "text": [
      "********** Example of one of the article: *********\n",
      "The title is: Adjunctive Topiramate in People With Schizophrenia\n",
      "The authors are: Brian Miller, MD, PhD, MPH\n",
      "The date of publication is: \n",
      "    September 29, 2016\n",
      "\n",
      "Many patients with schizophrenia experience residual symptoms despite currently available treatments that affect quality of life and overall function. Treatment with a variety of different agents—as adjuncts to antipsychotics—has either failed to show consistent, robust effects on psychopathology, or needs replication in larger studies.By contrast, several pharmacologic strategies, including adjunctive topiramate, have been successful in reducing antipsychotic-induced weight gain.Topiramate is approved by the US FDA as an anti-epileptic and anti-migraine treatment. In patients with epilepsy and obesity and/or type 2 diabetes mellitus, topiramate has been associated with weight loss and improved glucose homeostasis, potentially through appetite reduction.Previous quantitative reviews of topiramate’s effect on weight in antipsychotic-treated patients included those who did not have schizophrenia, and reviews of its effect on psychopathology focused on patients treated with clozapine. conducted a meta-analysis of all randomized trials of topiramate, given as an adjunct to antipsychotics, in patients with schizophrenia. In a systematic search of PubMed/MEDLINE, the researchers looked for all published studies of antipsychotic augmentation with topiramate in patients with schizophrenia-spectrum disorders (both randomized, placebo-controlled trials or open-label trials with an untreated control group).The primary outcome was change in total score on either the Positive and Negative Syndrome Scale (PANSS) or the Brief Psychiatric Rating Scale (BPRS). Secondary outcomes included PANSS subscales, all-cause discontinuation, weight or BMI, glucose and lipids levels, and adverse effects.The initial database search yielded 309 results. Based on titles and abstracts, full-text versions were retrieved for 36 articles. Eight trials, lasting a mean 13.6 (range, 8-24) weeks, that comprised 439 patients randomized to topiramate (100-400 mg/d) or either placebo (7 trials) or continuation of antipsychotic without placebo (1 trial) were eligible for inclusion.The study sample had a mean age of 39, mean BMI of 27, mean baseline PANSS/BPRS score of 85/29, and was 64% male. Fifty-five percent of subjects were inpatients, and 89% had a diagnosis of schizophrenia.In 6 trials, topiramate was added to a stable dose of antipsychotic medication; in the other 2 trials, topiramate was started concurrently with antipsychotic medication.The authors found adjunctive  (versus placebo) was associated with a significantly greater reduction in PANSS/BPRS total score with a medium effect size (standard mean difference [SMD] = -0.57). Effects of topiramate were even more robust in trials in which the majority of patients were treated with .Adjunctive topiramate was also associated with significantly greater reduction in PANSS positive, negative, and general subscale scores.Furthermore, topiramate was associated with significantly lower body weight (SMD = -0.71) and BMI (SMD = -1.04), with medium-to-large and large effect sizes, respectively. One trial also found significant advantages for adjunctive topiramate regarding effects on insulin, glucose, and total and low-density lipoprotein cholesterol.Regarding adverse effects, all-cause discontinuation was similar between topiramate and control groups. There was a trend for more paresthesias with topiramate use (relative risk = 2.0), but otherwise no difference in adverse effects reported in at least 3 trials.The authors found evidence that adjunctive topiramate was associated with significantly greater reductions in psychopathology (particularly in clozapine-treated patients) and body weight.Other than an increase in paresthesias, there were no differences in adverse effects or all-cause discontinuation between topiramate and placebo. They concluded that topiramate may be a useful augmentation agent in patients with schizophrenia spectrum disorders. \n"
     ]
    }
   ],
   "source": [
    "print('********** Example of one of the article: *********')\n",
    "print('The title is: {}'.format(titles[0][0]))\n",
    "print('The authors are: {}'.format(authors[0][0]))\n",
    "print('The date of publication is: {}'.format(publication_dates[0][0]))\n",
    "print(articles[0])"
   ]
  },
  {
   "cell_type": "code",
   "execution_count": 59,
   "metadata": {
    "collapsed": false
   },
   "outputs": [
    {
     "name": "stdout",
     "output_type": "stream",
     "text": [
      " ******* Extracted Keywords ******* \n",
      "effects\n",
      "effect\n",
      "topiramate\n",
      "mean\n",
      "trials\n",
      "trial\n",
      "antipsychotic weight\n",
      "panss\n",
      "antipsychotics\n",
      "studies\n",
      "study\n",
      "glucose\n",
      "including\n",
      "included\n",
      "bprs\n",
      "search\n",
      "control\n",
      "reduction\n",
      "reductions\n",
      "smd\n",
      "patients\n",
      "treatments\n",
      "treatment\n",
      "psychopathology\n",
      "scale\n",
      "placebo\n",
      "score\n",
      "scores\n",
      "size\n",
      "sizes\n",
      "lipoprotein\n",
      "treated\n",
      "use\n",
      "useful\n",
      "outcome\n",
      "outcomes\n",
      "bmi\n"
     ]
    }
   ],
   "source": [
    "print (' ******* Extracted Keywords ******* ')\n",
    "keywords =  keywords(articles[0])\n",
    "print(keywords)"
   ]
  },
  {
   "cell_type": "code",
   "execution_count": 60,
   "metadata": {
    "collapsed": false
   },
   "outputs": [
    {
     "name": "stdout",
     "output_type": "stream",
     "text": [
      " ******* Summary ******* \n",
      "In a systematic search of PubMed/MEDLINE, the researchers looked for all published studies of antipsychotic augmentation with topiramate in patients with schizophrenia-spectrum disorders (both randomized, placebo-controlled trials or open-label trials with an untreated control group).The primary outcome was change in total score on either the Positive and Negative Syndrome Scale (PANSS) or the Brief Psychiatric Rating Scale (BPRS).\n",
      "There was a trend for more paresthesias with topiramate use (relative risk = 2.0), but otherwise no difference in adverse effects reported in at least 3 trials.The authors found evidence that adjunctive topiramate was associated with significantly greater reductions in psychopathology (particularly in clozapine-treated patients) and body weight.Other than an increase in paresthesias, there were no differences in adverse effects or all-cause discontinuation between topiramate and placebo.\n"
     ]
    }
   ],
   "source": [
    "# ratio (default = 0.2) - to specify what fraction of sentences in the original text should be returned as output\n",
    "# word_count - to specify the maximum amount of words in the summary\n",
    "# \"split\" option if need in a list of strings instead of a single string\n",
    "\n",
    "print(' ******* Summary ******* ')\n",
    "summary = summarize(articles[0], word_count=100)\n",
    "print(summary)"
   ]
  },
  {
   "cell_type": "code",
   "execution_count": 61,
   "metadata": {
    "collapsed": false
   },
   "outputs": [
    {
     "name": "stdout",
     "output_type": "stream",
     "text": [
      "********** Example of one of the article: *********\n",
      "The title is: The Virus Connection: How Viruses Affect Psychiatric Pathologies\n",
      "The authors are: Jacqueline A. Hobbs, MD, PhD, DFAPA\n",
      "The date of publication is: \n",
      "    September 20, 2016\n",
      " \n",
      "September 20, 2016March 20, 2018\n",
      "This activity offers CE credits for:1. Physicians (CME)2. Other\n",
      "\n",
      "To understand the pathogenic impact of viruses on mental illness.\n",
      "\n",
      "At the end of this CME activity, participants should be able to:\n",
      "• Name viruses that can infect the brain\n",
      "• Discuss the neurodevelopmental hypothesis of schizophrenia\n",
      "• Recognize genetic and environmental factors that may contribute to the pathogenesis of mental illness\n",
      "• Describe possible mechanisms by which viruses may contribute to mental illness\n",
      "\n",
      "This continuing medical education activity is intended for psychiatrists, psychologists, primary care physicians, physician assistants, nurse practitioners, and other health care professionals who seek to improve their care for patients with mental health disorders.\n",
      "\n",
      "This activity has been planned and implemented in accordance with the Essential Areas and policies of the Accreditation Council for Continuing Medical Education (ACCME) through the joint providership of CME Outfitters, LLC, and . CME Outfitters, LLC, is accredited by the ACCME to provide continuing medical education for physicians.\n",
      "CME Outfitters designates this enduring material for a maximum of ™. Physicians should claim only the credit commensurate with the extent of their participation in the activity.\n",
      "AANPCP and AAPA accept certificates of participation for educational activities certified for ™.\n",
      "\n",
      "It is the policy of CME Outfitters, LLC, to ensure independence, balance, objectivity, and scientific rigor and integrity in all of their CME/CE activities. Faculty must disclose to the participants any relationships with commercial companies whose products or devices may be mentioned in faculty presentations, or with the commercial supporter of this CME/CE activity. CME Outfitters, LLC, has evaluated, identified, and attempted to resolve any potential conflicts of interest through a rigorous content validation procedure, use of evidence-based data/research, and a multidisciplinary peer-review process.\n",
      "The following information is for participant information only. It is not assumed that these relationships will have a negative impact on the presentations.\n",
      "Jacqueline A. Hobbs, MD, PhD, has no disclosures to report.\n",
      "Karl Bechter, MD (peer/content reviewer), has no disclosures to report.\n",
      "Applicable  staff and CME Outfitters staff have no disclosures to report.\n",
      "\n",
      "Faculty of this CME/CE activity may include discussion of products or devices that are not currently labeled for use by the FDA. The faculty have been informed of their responsibility to disclose to the audience if they will be discussing off-label or investigational uses (any uses not approved by the FDA) of products or devices. CME Outfitters, LLC, and the faculty do not endorse the use of any product outside of the FDA-labeled indications. Medical professionals should not utilize the procedures, products, or diagnosis techniques discussed during this activity without evaluation of their patient for contraindications or dangers of use.\n",
      "\n",
      "Call us at  (877.263.7767)\n",
      "\n"
     ]
    }
   ],
   "source": [
    "print('********** Example of one of the article: *********')\n",
    "print('The title is: {}'.format(titles[3][0]))\n",
    "print('The authors are: {}'.format(authors[3][0]))\n",
    "print('The date of publication is: {}'.format(publication_dates[3][0]))\n",
    "print(articles[3])"
   ]
  },
  {
   "cell_type": "code",
   "execution_count": 63,
   "metadata": {
    "collapsed": false
   },
   "outputs": [
    {
     "name": "stdout",
     "output_type": "stream",
     "text": [
      " ******* Summary ******* \n",
      "This continuing medical education activity is intended for psychiatrists, psychologists, primary care physicians, physician assistants, nurse practitioners, and other health care professionals who seek to improve their care for patients with mental health disorders.\n",
      "This activity has been planned and implemented in accordance with the Essential Areas and policies of the Accreditation Council for Continuing Medical Education (ACCME) through the joint providership of CME Outfitters, LLC, and .\n",
      "CME Outfitters, LLC, is accredited by the ACCME to provide continuing medical education for physicians.\n",
      "Faculty must disclose to the participants any relationships with commercial companies whose products or devices may be mentioned in faculty presentations, or with the commercial supporter of this CME/CE activity.\n",
      "CME Outfitters, LLC, has evaluated, identified, and attempted to resolve any potential conflicts of interest through a rigorous content validation procedure, use of evidence-based data/research, and a multidisciplinary peer-review process.\n",
      "Faculty of this CME/CE activity may include discussion of products or devices that are not currently labeled for use by the FDA.\n",
      "CME Outfitters, LLC, and the faculty do not endorse the use of any product outside of the FDA-labeled indications.\n",
      "Medical professionals should not utilize the procedures, products, or diagnosis techniques discussed during this activity without evaluation of their patient for contraindications or dangers of use.\n"
     ]
    }
   ],
   "source": [
    "print(' ******* Summary ******* ')\n",
    "summary = summarize(articles[3], word_count=200)\n",
    "print(summary)"
   ]
  },
  {
   "cell_type": "code",
   "execution_count": null,
   "metadata": {
    "collapsed": true
   },
   "outputs": [],
   "source": []
  }
 ],
 "metadata": {
  "kernelspec": {
   "display_name": "Python 2",
   "language": "python",
   "name": "python2"
  },
  "language_info": {
   "codemirror_mode": {
    "name": "ipython",
    "version": 2
   },
   "file_extension": ".py",
   "mimetype": "text/x-python",
   "name": "python",
   "nbconvert_exporter": "python",
   "pygments_lexer": "ipython2",
   "version": "2.7.11"
  }
 },
 "nbformat": 4,
 "nbformat_minor": 0
}
