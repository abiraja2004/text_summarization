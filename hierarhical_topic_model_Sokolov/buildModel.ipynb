{
 "metadata": {
  "anaconda-cloud": {},
  "kernelspec": {
   "display_name": "Python [conda root]",
   "language": "python",
   "name": "conda-root-py"
  },
  "language_info": {
   "codemirror_mode": {
    "name": "ipython",
    "version": 2
   },
   "file_extension": ".py",
   "mimetype": "text/x-python",
   "name": "python",
   "nbconvert_exporter": "python",
   "pygments_lexer": "ipython2",
   "version": "2.7.12"
  },
  "name": "",
  "signature": "sha256:324d9cc246fd4c4711b1d2e3d8aaf8fed3129cbdb7cc3cc2868b385170b192f3"
 },
 "nbformat": 3,
 "nbformat_minor": 0,
 "worksheets": [
  {
   "cells": [
    {
     "cell_type": "code",
     "collapsed": true,
     "input": [
      "import artm"
     ],
     "language": "python",
     "metadata": {},
     "outputs": [],
     "prompt_number": 1
    },
    {
     "cell_type": "code",
     "collapsed": false,
     "input": [
      "artm.version()"
     ],
     "language": "python",
     "metadata": {},
     "outputs": [
      {
       "metadata": {},
       "output_type": "pyout",
       "prompt_number": 2,
       "text": [
        "'0.8.1'"
       ]
      }
     ],
     "prompt_number": 2
    },
    {
     "cell_type": "code",
     "collapsed": false,
     "input": [
      "from matplotlib import pyplot as plt\n",
      "%matplotlib inline\n",
      "from sklearn.cross_validation import train_test_split\n",
      "from collections import Counter\n",
      "import tempfile\n",
      "import pickle\n",
      "import codecs"
     ],
     "language": "python",
     "metadata": {},
     "outputs": [
      {
       "output_type": "stream",
       "stream": "stderr",
       "text": [
        "/usr/local/lib/python2.7/dist-packages/sklearn/cross_validation.py:44: DeprecationWarning: This module was deprecated in version 0.18 in favor of the model_selection module into which all the refactored classes and functions are moved. Also note that the interface of the new CV iterators are different from that of this module. This module will be removed in 0.20.\n",
        "  \"This module will be removed in 0.20.\", DeprecationWarning)\n"
       ]
      }
     ],
     "prompt_number": 3
    },
    {
     "cell_type": "code",
     "collapsed": false,
     "input": [
      "num_document_passes = 10\n",
      "num_collection_passes = 40\n",
      "regularizer_tau = 10 ** 5\n",
      "parent_level_weight = 1\n",
      "num_topics_level0 = 25\n",
      "num_topics_level1 = 60\n",
      "parent_batch_folder = tempfile.mkdtemp()"
     ],
     "language": "python",
     "metadata": {},
     "outputs": [],
     "prompt_number": 4
    },
    {
     "cell_type": "code",
     "collapsed": false,
     "input": [
      "# convert to vowpal wabbit\n",
      "\n",
      "#f = codecs.open(\"abstracts.txt\", \"r\", \"utf-8\")\n",
      "#ab = f.read().splitlines()\n",
      "#abc = [\"\" for i in range(len(ab))]\n",
      "#for i in range(len(ab)):\n",
      "#    abc[i] = ' '.join([j[0]+u\":\"+str(j[1]) for j in Counter(ab[i][:-1].split(' ')).items()])\n",
      "#f.close()\n",
      "\n",
      "#f = codecs.open(\"authors.txt\", \"r\", \"utf-8\")\n",
      "#au = f.read().splitlines()\n",
      "#f.close()\n",
      "#auc = [\"\" for i in range(len(ab))]\n",
      "#for i in range(len(ab)):\n",
      "#    auc[i] = ' '.join([j[0]+u\":\"+str(j[1]) for j in Counter(au[i][:-1].split(' ')).items()])\n",
      "#f.close()\n",
      "\n",
      "#f = codecs.open(\"titles.txt\", \"r\", \"utf-8\")\n",
      "#ti = f.read().splitlines()\n",
      "#f.close()\n",
      "#tic = [\"\" for i in range(len(ab))]\n",
      "#for i in range(len(ab)):\n",
      "#    tic[i] = ' '.join([j[0]+u\":\"+str(j[1]) for j in Counter(ti[i][:-1].split(' ')).items()])\n",
      "#f.close()\n",
      "\n",
      "f = codecs.open(\"bodies.txt\", \"r\", \"utf-8\")\n",
      "bo = f.read().splitlines()\n",
      "f.close()\n",
      "boc = [\"\" for i in range(len(bo))]\n",
      "for i in range(len(bo)):\n",
      "    boc[i] = ' '.join([j[0]+u\":\"+str(j[1]) for j in Counter(bo[i][:-1].split(' ')).items()])\n",
      "f.close()"
     ],
     "language": "python",
     "metadata": {},
     "outputs": [],
     "prompt_number": 5
    },
    {
     "cell_type": "code",
     "collapsed": false,
     "input": [
      "data = []\n",
      "for counter in range(len(bo)):\n",
      "    data.append(u'doc'+unicode(counter)+u\" \"+boc[counter]\n",
      "                +'\\n')\n",
      "data = [i.replace(':1', '') for i in data]\n",
      "# u'doc'+unicode(counter)+u\" \"+\n",
      "# u'|@body '+boc[counter]\n",
      "#                 +'\\n')\n",
      "#                  u'|@title '+tic[counter]+u\" \"\n",
      "#                 +u'|@authors '+auc[counter]+u\" \"\n",
      "#                 +u'|@abstract '+abc[counter]+u\" \"\n",
      "#                 +"
     ],
     "language": "python",
     "metadata": {},
     "outputs": [],
     "prompt_number": 6
    },
    {
     "cell_type": "code",
     "collapsed": false,
     "input": [
      "texts = {}\n",
      "for counter in range(len(bo)):\n",
      "    data.append(u'doc'+unicode(counter)+u\" \"+boc[counter]\n",
      "                +'\\n')\n",
      "data = [i.replace(':1', '') for i in data]"
     ],
     "language": "python",
     "metadata": {},
     "outputs": [],
     "prompt_number": 7
    },
    {
     "cell_type": "code",
     "collapsed": false,
     "input": [
      "train, test = train_test_split(data, test_size=0.01)\n",
      "\n",
      "f = codecs.open(\"train.vw\", \"w\", \"utf-8\")\n",
      "for text in train:\n",
      "    f.write(text)\n",
      "f.close()\n",
      "\n",
      "f = codecs.open(\"test.vw\", \"w\", \"utf-8\")\n",
      "for text in test:\n",
      "    f.write(text)\n",
      "f.close()"
     ],
     "language": "python",
     "metadata": {},
     "outputs": [],
     "prompt_number": 8
    },
    {
     "cell_type": "code",
     "collapsed": false,
     "input": [
      "batch_vectorizer = artm.BatchVectorizer(data_path='train.vw',\n",
      "                                        data_format='vowpal_wabbit',\n",
      "                                        target_folder='my_collection_batches',\n",
      "                                        gather_dictionary=False)\n",
      "#batch_vectorizer = artm.BatchVectorizer(data_path='bs',\n",
      "#                                       data_format='batches')\n",
      "my_dictionary = artm.Dictionary()\n",
      "my_dictionary.gather(data_path='my_collection_batches')\n",
      "#my_dictionary.save_text(dictionary_path='test')\n",
      "my_dictionary.filter(min_df_rate=0.01, max_df_rate=30) # min_tf=5"
     ],
     "language": "python",
     "metadata": {},
     "outputs": [],
     "prompt_number": 5
    },
    {
     "cell_type": "code",
     "collapsed": false,
     "input": [
      "model_Hartm = artm.hARTM(dictionary=my_dictionary,\n",
      "                            cache_theta=True,\n",
      "                            num_document_passes=num_document_passes,\n",
      "                            theta_columns_naming='title')\n",
      "\n",
      "\n",
      "level0 = model_Hartm.add_level(num_topics=num_topics_level0,topic_names=['topic_{}'.format(i) for i in xrange(num_topics_level0)])\n",
      "level0.initialize(dictionary=my_dictionary)\n",
      "\n",
      "level0.scores.add(artm.PerplexityScore(name='PerplexityScore',use_unigram_document_model=False,\n",
      "                                            dictionary=my_dictionary))\n",
      "level0.scores.add(artm.SparsityPhiScore(name='SparsityPhiScore'))\n",
      "level0.scores.add(artm.SparsityThetaScore(name='SparsityThetaScore'))\n",
      "level0.scores.add(artm.TopTokensScore(name='top_words',num_tokens=15))\n",
      "\n",
      "\n",
      "level0.fit_offline(batch_vectorizer=batch_vectorizer, num_collection_passes=num_collection_passes)\n",
      "level0.regularizers.add(artm.SmoothSparsePhiRegularizer(name='SparsePhi', tau=-10000000, dictionary=my_dictionary))\n",
      "level0.fit_offline(batch_vectorizer=batch_vectorizer, num_collection_passes=num_collection_passes)\n",
      "\n",
      "plt.plot(level0.score_tracker[\"PerplexityScore\"].value)\n",
      "#plt.show()"
     ],
     "language": "python",
     "metadata": {},
     "outputs": [
      {
       "metadata": {},
       "output_type": "pyout",
       "prompt_number": 6,
       "text": [
        "[<matplotlib.lines.Line2D at 0x7f2061976150>]"
       ]
      },
      {
       "metadata": {},
       "output_type": "display_data",
       "png": "[encoded data removed]",
       "text": [
        "<matplotlib.figure.Figure at 0x7f20623352d0>"
       ]
      }
     ],
     "prompt_number": 6
    },
    {
     "cell_type": "code",
     "collapsed": false,
     "input": [
      "for topic_name in level0.topic_names:\n",
      "    print (topic_name + ': '),\n",
      "    for word in level0.score_tracker['top_words'].last_tokens[topic_name]:\n",
      "        print (word),\n",
      "    print\n",
      "\n",
      "print (level0.score_tracker[\"SparsityPhiScore\"].last_value)\n",
      "print (level0.score_tracker[\"SparsityThetaScore\"].last_value)"
     ],
     "language": "python",
     "metadata": {},
     "outputs": [
      {
       "output_type": "stream",
       "stream": "stdout",
       "text": [
        "topic_0:  "
       ]
      },
      {
       "output_type": "stream",
       "stream": "stdout",
       "text": [
        "cell activation receptor induced culture incubated signaling inhibitor treated play staining medium hour vitro inhibition\n",
        "topic_1:  "
       ]
      },
      {
       "output_type": "stream",
       "stream": "stdout",
       "text": [
        "three sequence dna strain pcr genome resistance bacterial sequencing isolates bacteria bp plasmid primer fragment\n",
        "topic_2:  "
       ]
      },
      {
       "output_type": "stream",
       "stream": "stdout",
       "text": [
        "specie plant tree water environmental site leaf abundance soil root fish diversity community temperature mosquito\n",
        "topic_3:  "
       ]
      },
      {
       "output_type": "stream",
       "stream": "stdout",
       "text": [
        "observed similar described experiment line previously specific type role presence analyzed either indicated reduced detected\n",
        "topic_4:  "
       ]
      },
      {
       "output_type": "stream",
       "stream": "stdout",
       "text": [
        "protein site binding domain structure interaction peptide residue amino complex molecular chain bind molecule ligand\n",
        "topic_5:  "
       ]
      },
      {
       "output_type": "stream",
       "stream": "stdout",
       "text": [
        "woman child hospital mortality death malaria birth pregnancy respiratory delivery maternal admission parent infant mother\n",
        "topic_6:  "
       ]
      },
      {
       "output_type": "stream",
       "stream": "stdout",
       "text": [
        "population case year individual high per hiv estimate country among prevalence proportion cost area testing\n",
        "topic_7:  "
       ]
      },
      {
       "output_type": "stream",
       "stream": "stdout",
       "text": [
        "expression gene pathway rna mrna target transcription involved promoter regulation probe transcript functional development reverse\n",
        "topic_8:  "
       ]
      },
      {
       "output_type": "stream",
       "stream": "stdout",
       "text": [
        "group control effect significant difference test condition response subject four presented greater whether ability main\n",
        "topic_9:  "
       ]
      },
      {
       "output_type": "stream",
       "stream": "stdout",
       "text": [
        "activity well concentration ml determined min acid growth high mm assay material decreased reaction amount\n",
        "topic_10:  "
       ]
      },
      {
       "output_type": "stream",
       "stream": "stdout",
       "text": [
        "treatment day drug week following month therapy baseline period dose duration received treated mg hour\n",
        "topic_11:  "
       ]
      },
      {
       "output_type": "stream",
       "stream": "stdout",
       "text": [
        "cancer tumor survival breast metastasis biopsy egfr carcinoma er invasion chemotherapy prostate colon gastric cervical\n",
        "topic_12:  "
       ]
      },
      {
       "output_type": "stream",
       "stream": "stdout",
       "text": [
        "infection virus infected antibody viral cd4 immune response vaccine antigen ifn parasite influenza cytokine vaccination\n",
        "topic_13:  "
       ]
      },
      {
       "output_type": "stream",
       "stream": "stdout",
       "text": [
        "within image area surface volume left right bone lesion cm imaging side white ct section\n",
        "topic_14:  "
       ]
      },
      {
       "output_type": "stream",
       "stream": "stdout",
       "text": [
        "male female body weight diabetes muscle glucose insulin food bmi adult metabolic mass diet exercise\n",
        "topic_15:  "
       ]
      },
      {
       "output_type": "stream",
       "stream": "stdout",
       "text": [
        "study journal found reported risk low included al et outcome potential trial evidence identified report\n",
        "topic_16:  "
       ]
      },
      {
       "output_type": "stream",
       "stream": "stdout",
       "text": [
        "mouse tissue animal rat lung liver injury injection inflammatory inflammation kidney heart cardiac vascular section\n",
        "topic_17:  "
       ]
      },
      {
       "output_type": "stream",
       "stream": "stdout",
       "text": [
        "model time two value rate mean shown figure change first system increase show due function\n",
        "topic_18:  "
       ]
      },
      {
       "output_type": "stream",
       "stream": "stdout",
       "text": [
        "region mutation genetic snp association genotype allele variant locus chromosome polymorphism exon deletion haplotype phenotype\n",
        "topic_19:  "
       ]
      },
      {
       "output_type": "stream",
       "stream": "stdout",
       "text": [
        "patient pone however disease compared table factor associated higher increased significantly clinical including present although\n",
        "topic_20:  "
       ]
      },
      {
       "output_type": "stream",
       "stream": "stdout",
       "text": [
        "brain neuron m stimulus channel functional ad signal cortex motor movement pd neural noise amplitude\n",
        "topic_21:  "
       ]
      },
      {
       "output_type": "stream",
       "stream": "stdout",
       "text": [
        "age participant score status association symptom sex physical variable gender disorder social men pain medication\n",
        "topic_22:  "
       ]
      },
      {
       "output_type": "stream",
       "stream": "stdout",
       "text": [
        "also may could use health important would research care likely medical part intervention general support\n",
        "topic_23:  "
       ]
      },
      {
       "output_type": "stream",
       "stream": "stdout",
       "text": [
        "using analysis data result used number one different method based information obtained size standard set\n",
        "topic_24:  "
       ]
      },
      {
       "output_type": "stream",
       "stream": "stdout",
       "text": [
        "level sample total performed human positive blood serum negative normal collected marker protocol plasma detection\n",
        "0.949202481669\n",
        "0.0243645189157\n"
       ]
      }
     ],
     "prompt_number": 7
    },
    {
     "cell_type": "code",
     "collapsed": false,
     "input": [
      "model_Hartm.tmp_files_path = parent_batch_folder\n",
      "\n",
      "level1 = model_Hartm.add_level(num_topics=num_topics_level1,topic_names=['topic_{}'.format(i) for i in xrange(num_topics_level1)],\n",
      "                            parent_level_weight=parent_level_weight)\n",
      "level1.initialize(dictionary=my_dictionary)\n",
      "\n",
      "level1.scores.add(artm.PerplexityScore(name='PerplexityScore',use_unigram_document_model=False,\n",
      "                                            dictionary=my_dictionary))\n",
      "level1.scores.add(artm.SparsityPhiScore(name='SparsityPhiScore'))\n",
      "level1.scores.add(artm.SparsityThetaScore(name='SparsityThetaScore'))\n",
      "level1.scores.add(artm.TopTokensScore(name='top_words',num_tokens=15))\n",
      "\n",
      "\n",
      "level1.fit_offline(batch_vectorizer=batch_vectorizer, num_collection_passes=num_collection_passes)\n",
      "\n",
      "#print (level1.score_tracker[\"SparsityPhiScore\"].last_value)\n",
      "#print (level1.score_tracker[\"SparsityThetaScore\"].last_value)\n",
      "\n",
      "level1.regularizers.add(artm.HierarchySparsingThetaRegularizer(name=\"HierSp\", tau=regularizer_tau))\n",
      "level1.regularizers.add(artm.SmoothSparsePhiRegularizer(name='SparsePhi', tau=-1000000, dictionary=my_dictionary))\n",
      "level1.fit_offline(batch_vectorizer=batch_vectorizer, num_collection_passes=num_collection_passes)\n",
      "\n",
      "\n",
      "plt.plot(level1.score_tracker[\"PerplexityScore\"].value)\n",
      "#plt.show()"
     ],
     "language": "python",
     "metadata": {},
     "outputs": [
      {
       "metadata": {},
       "output_type": "pyout",
       "prompt_number": 8,
       "text": [
        "[<matplotlib.lines.Line2D at 0x7f204f966c10>]"
       ]
      },
      {
       "metadata": {},
       "output_type": "display_data",
       "png": "[encoded data removed]",
       "text": [
        "<matplotlib.figure.Figure at 0x7f20623f5b10>"
       ]
      }
     ],
     "prompt_number": 8
    },
    {
     "cell_type": "code",
     "collapsed": false,
     "input": [
      "for topic_name in level1.topic_names:\n",
      "    print (topic_name + ': '),\n",
      "    for word in level1.score_tracker[\"top_words\"].last_tokens[topic_name]:\n",
      "        print (word),\n",
      "    print\n",
      "\n",
      "print (level1.score_tracker[\"SparsityPhiScore\"].last_value)\n",
      "print (level1.score_tracker[\"SparsityThetaScore\"].last_value)\n",
      "\n",
      "phi = model_Hartm.get_level(1).get_phi()\n",
      "theta = model_Hartm.get_level(1).get_theta()\n",
      "psi = model_Hartm.get_level(1).get_psi()\n",
      "print(psi.values.max(axis=1).min())"
     ],
     "language": "python",
     "metadata": {},
     "outputs": [
      {
       "output_type": "stream",
       "stream": "stdout",
       "text": [
        "topic_0:  "
       ]
      },
      {
       "output_type": "stream",
       "stream": "stdout",
       "text": [
        "cancer tumor survival breast metastasis carcinoma chemotherapy prostate invasion egfr gastric biopsy er colon cervical\n",
        "topic_1:  "
       ]
      },
      {
       "output_type": "stream",
       "stream": "stdout",
       "text": [
        "patient disease clinical diagnosis acute chronic cohort characteristic severe severity diagnosed failure pulmonary median progression\n",
        "topic_2:  "
       ]
      },
      {
       "output_type": "stream",
       "stream": "stdout",
       "text": [
        "time value mean change first respectively point function parameter pattern phase range therefore second expected\n",
        "topic_3:  "
       ]
      },
      {
       "output_type": "stream",
       "stream": "stdout",
       "text": [
        "two type one however first present well table small al et even since found several\n",
        "topic_4:  "
       ]
      },
      {
       "output_type": "stream",
       "stream": "stdout",
       "text": [
        "task subject performance participant condition visual training trial experiment memory learning target stimulus session behavior\n",
        "topic_5:  "
       ]
      },
      {
       "output_type": "stream",
       "stream": "stdout",
       "text": [
        "region mutation snp genetic genotype allele association variant locus chromosome polymorphism frequency haplotype phenotype exon\n",
        "topic_6:  "
       ]
      },
      {
       "output_type": "stream",
       "stream": "stdout",
       "text": [
        "intervention information quality participant practice review trial decision clinical item system survey knowledge guideline need\n",
        "topic_7:  "
       ]
      },
      {
       "output_type": "stream",
       "stream": "stdout",
       "text": [
        "receptor signaling differentiation proliferation migration endothelial epithelial tgf adhesion fibroblast actin vegf extracellular primary molecule\n",
        "topic_8:  "
       ]
      },
      {
       "output_type": "stream",
       "stream": "stdout",
       "text": [
        "brain neuron m channel stimulus signal functional ad cortex region pd neural nerve amplitude motor\n",
        "topic_9:  "
       ]
      },
      {
       "output_type": "stream",
       "stream": "stdout",
       "text": [
        "parameter model simulation state dynamic probability fig input r constant equation space scenario property force\n",
        "topic_10:  "
       ]
      },
      {
       "output_type": "stream",
       "stream": "stdout",
       "text": [
        "child woman hospital mortality death malaria birth pregnancy maternal delivery respiratory infant admission parent mother\n",
        "topic_11:  "
       ]
      },
      {
       "output_type": "stream",
       "stream": "stdout",
       "text": [
        "within image area volume imaging left lesion surface cm right ct white measurement field scan\n",
        "topic_12:  "
       ]
      },
      {
       "output_type": "stream",
       "stream": "stdout",
       "text": [
        "change increased significantly total increase condition day growth loss decreased reduced relative significant early per\n",
        "topic_13:  "
       ]
      },
      {
       "output_type": "stream",
       "stream": "stdout",
       "text": [
        "cd4 cytokine immune ifn cd8 lymphocyte dc il10 donor spleen antigen subset recipient nk tcell\n",
        "topic_14:  "
       ]
      },
      {
       "output_type": "stream",
       "stream": "stdout",
       "text": [
        "expression gene rna pathway mrna transcription target promoter involved expressed regulation development transcript probe cdna\n",
        "topic_15:  "
       ]
      },
      {
       "output_type": "stream",
       "stream": "stdout",
       "text": [
        "infection virus infected antibody viral response vaccine parasite influenza vaccination antigen host igg hiv1 immune\n",
        "topic_16:  "
       ]
      },
      {
       "output_type": "stream",
       "stream": "stdout",
       "text": [
        "research question paper issue medicine member researcher community work respondent science user knowledge people way\n",
        "topic_17:  "
       ]
      },
      {
       "output_type": "stream",
       "stream": "stdout",
       "text": [
        "activation induced incubated treated culture macrophage hour inhibitor play vivo medium vitro inhibition staining mechanism\n",
        "topic_18:  "
       ]
      },
      {
       "output_type": "stream",
       "stream": "stdout",
       "text": [
        "health care program medical service facility public physician family medicine access worker healthcare home indicator\n",
        "topic_19:  "
       ]
      },
      {
       "output_type": "stream",
       "stream": "stdout",
       "text": [
        "mouse tissue lung liver animal inflammatory inflammation section organ per fibrosis kidney collagen neutrophil hepatic\n",
        "topic_20:  "
       ]
      },
      {
       "output_type": "stream",
       "stream": "stdout",
       "text": [
        "bone eye layer surface segment side head section thickness posterior retinal lateral anterior joint wall\n",
        "topic_21:  "
       ]
      },
      {
       "output_type": "stream",
       "stream": "stdout",
       "text": [
        "test case clinical positive disease laboratory diagnostic symptom normal reported performed negative based n significant\n",
        "topic_22:  "
       ]
      },
      {
       "output_type": "stream",
       "stream": "stdout",
       "text": [
        "analysis using number result obtained size one calculated based distribution method le single new least\n",
        "topic_23:  "
       ]
      },
      {
       "output_type": "stream",
       "stream": "stdout",
       "text": [
        "gene identified family genome sequence read candidate set database predicted member position cluster novel putative\n",
        "topic_24:  "
       ]
      },
      {
       "output_type": "stream",
       "stream": "stdout",
       "text": [
        "region population site within individual size pattern distribution variation number location area density distance range\n",
        "topic_25:  "
       ]
      },
      {
       "output_type": "stream",
       "stream": "stdout",
       "text": [
        "study risk association subject woman sex age men cohort factor smoking population associated adjusted status\n",
        "topic_26:  "
       ]
      },
      {
       "output_type": "stream",
       "stream": "stdout",
       "text": [
        "specie plant water tree environmental leaf site soil abundance community fish temperature root mosquito egg\n",
        "topic_27:  "
       ]
      },
      {
       "output_type": "stream",
       "stream": "stdout",
       "text": [
        "male female weight body muscle glucose diabetes insulin food diet bmi mass metabolic adult exercise\n",
        "topic_28:  "
       ]
      },
      {
       "output_type": "stream",
       "stream": "stdout",
       "text": [
        "animal rat injection injury intestinal group saline pig injected vehicle sem sham experimental fed damage\n",
        "topic_29:  "
       ]
      },
      {
       "output_type": "stream",
       "stream": "stdout",
       "text": [
        "group control effect difference significant test response condition subject four presented greater whether ability main\n",
        "topic_30:  "
       ]
      },
      {
       "output_type": "stream",
       "stream": "stdout",
       "text": [
        "binding structure interaction residue complex ligand site molecule structural energy chain loop molecular substrate affinity\n",
        "topic_31:  "
       ]
      },
      {
       "output_type": "stream",
       "stream": "stdout",
       "text": [
        "data used different one method possible based information standard available large comparison many developed le\n",
        "topic_32:  "
       ]
      },
      {
       "output_type": "stream",
       "stream": "stdout",
       "text": [
        "sequence dna three pcr genome primer sequencing bp plasmid fragment clone nucleotide amplification copy read\n",
        "topic_33:  "
       ]
      },
      {
       "output_type": "stream",
       "stream": "stdout",
       "text": [
        "model two rate figure shown system show increase fig thus due average small process current\n",
        "topic_34:  "
       ]
      },
      {
       "output_type": "stream",
       "stream": "stdout",
       "text": [
        "network set method cluster feature algorithm distance class map information correlation pair matrix prediction dataset\n",
        "topic_35:  "
       ]
      },
      {
       "output_type": "stream",
       "stream": "stdout",
       "text": [
        "concentration mm temperature nm ca ph water solution spectrum release calcium co ion potential transport\n",
        "topic_36:  "
       ]
      },
      {
       "output_type": "stream",
       "stream": "stdout",
       "text": [
        "model score value variable correlation estimate index table measure regression linear interval estimated coefficient average\n",
        "topic_37:  "
       ]
      },
      {
       "output_type": "stream",
       "stream": "stdout",
       "text": [
        "time week hour fig minute protocol exposure pone min surgery procedure flow use assessed p\n",
        "topic_38:  "
       ]
      },
      {
       "output_type": "stream",
       "stream": "stdout",
       "text": [
        "protein domain site peptide amino binding subunit motif purified protease recombinant yeast bind core conserved\n",
        "topic_39:  "
       ]
      },
      {
       "output_type": "stream",
       "stream": "stdout",
       "text": [
        "strain resistance bacterial isolates bacteria culture coli antibiotic pathogen colony host resistant aureus antimicrobial organism\n",
        "topic_40:  "
       ]
      },
      {
       "output_type": "stream",
       "stream": "stdout",
       "text": [
        "observed similar experiment described type specific previously line role presence analyzed either indicated detected reduced\n",
        "topic_41:  "
       ]
      },
      {
       "output_type": "stream",
       "stream": "stdout",
       "text": [
        "level serum plasma elevated measured vitamin biomarkers measurement deficiency iron marker ng crp circulating csf\n",
        "topic_42:  "
       ]
      },
      {
       "output_type": "stream",
       "stream": "stdout",
       "text": [
        "study journal reported found risk low al included et outcome trial potential evidence identified overall\n",
        "topic_43:  "
       ]
      },
      {
       "output_type": "stream",
       "stream": "stdout",
       "text": [
        "country area year prevalence case survey transmission household high china national period coverage incidence south\n",
        "topic_44:  "
       ]
      },
      {
       "output_type": "stream",
       "stream": "stdout",
       "text": [
        "antibody membrane formation staining fluorescence nucleus pb surface stained incubated microscopy microscope bar signal fixed\n",
        "topic_45:  "
       ]
      },
      {
       "output_type": "stream",
       "stream": "stdout",
       "text": [
        "journal shown compared figure may observed response high result previously low mean line used determined\n",
        "topic_46:  "
       ]
      },
      {
       "output_type": "stream",
       "stream": "stdout",
       "text": [
        "sample human total performed blood positive negative collected normal marker protocol detection sensitivity laboratory healthy\n",
        "topic_47:  "
       ]
      },
      {
       "output_type": "stream",
       "stream": "stdout",
       "text": [
        "mutant wt wildtype vector wild embryo phenotype gfp construct transgenic expressing defect fusion reporter knockout\n",
        "topic_48:  "
       ]
      },
      {
       "output_type": "stream",
       "stream": "stdout",
       "text": [
        "treatment day drug following week month therapy baseline dose period treated mg received duration agent\n",
        "topic_49:  "
       ]
      },
      {
       "output_type": "stream",
       "stream": "stdout",
       "text": [
        "heart cardiac renal kidney artery pressure diabetic blood vascular stroke myocardial ischemic hypertension arterial cardiovascular\n",
        "topic_50:  "
       ]
      },
      {
       "output_type": "stream",
       "stream": "stdout",
       "text": [
        "using sample assay ml acid reaction method containing product experiment min obtained gel tissue detected\n",
        "topic_51:  "
       ]
      },
      {
       "output_type": "stream",
       "stream": "stdout",
       "text": [
        "activity also role effect factor function important including mechanism showed process reported play involved expressed\n",
        "topic_52:  "
       ]
      },
      {
       "output_type": "stream",
       "stream": "stdout",
       "text": [
        "cell culture stem cellular medium cultured progenitor vivo vitro staining passage percentage stained isolated cd34\n",
        "topic_53:  "
       ]
      },
      {
       "output_type": "stream",
       "stream": "stdout",
       "text": [
        "control expression treated inhibitor apoptosis treatment activation phosphorylation inhibition western effect human blot kinase transfected\n",
        "topic_54:  "
       ]
      },
      {
       "output_type": "stream",
       "stream": "stdout",
       "text": [
        "activity well ml determined min growth acid high assay material compound decreased reaction amount addition\n",
        "topic_55:  "
       ]
      },
      {
       "output_type": "stream",
       "stream": "stdout",
       "text": [
        "also may could use important would likely strategy part development general need intervention impact support\n",
        "topic_56:  "
       ]
      },
      {
       "output_type": "stream",
       "stream": "stdout",
       "text": [
        "population individual case year hiv cost per high among testing tb estimate proportion screening art\n",
        "topic_57:  "
       ]
      },
      {
       "output_type": "stream",
       "stream": "stdout",
       "text": [
        "age participant score status symptom association physical social disorder variable sex gender pain depression school\n",
        "topic_58:  "
       ]
      },
      {
       "output_type": "stream",
       "stream": "stdout",
       "text": [
        "pone however table compared factor higher significantly associated increased including present lower finding previous although\n",
        "topic_59:  "
       ]
      },
      {
       "output_type": "stream",
       "stream": "stdout",
       "text": [
        "rate year age group mortality month death outcome followup incidence hospital event survival time total\n",
        "0.935130663659\n",
        "0.0239507086657\n",
        "0.00884536"
       ]
      },
      {
       "output_type": "stream",
       "stream": "stdout",
       "text": [
        "\n"
       ]
      }
     ],
     "prompt_number": 9
    },
    {
     "cell_type": "code",
     "collapsed": false,
     "input": [
      "level2 = model_Hartm.add_level(num_topics=num_topics_level1*2,topic_names=['topic_{}'.format(i) for i in xrange(num_topics_level1*2)],\n",
      "                            parent_level_weight=parent_level_weight)\n",
      "level2.initialize(dictionary=my_dictionary)\n",
      "\n",
      "level2.scores.add(artm.PerplexityScore(name='PerplexityScore',use_unigram_document_model=False,\n",
      "                                            dictionary=my_dictionary))\n",
      "level2.scores.add(artm.SparsityPhiScore(name='SparsityPhiScore'))\n",
      "level2.scores.add(artm.SparsityThetaScore(name='SparsityThetaScore'))\n",
      "level2.scores.add(artm.TopTokensScore(name='top_words',num_tokens=15))\n",
      "\n",
      "\n",
      "level2.fit_offline(batch_vectorizer=batch_vectorizer, num_collection_passes=num_collection_passes)\n",
      "\n",
      "print (level2.score_tracker[\"SparsityPhiScore\"].last_value)\n",
      "print (level2.score_tracker[\"SparsityThetaScore\"].last_value)\n",
      "\n",
      "level2.regularizers.add(artm.HierarchySparsingThetaRegularizer(name=\"HierSp\", tau=regularizer_tau))\n",
      "level2.regularizers.add(artm.SmoothSparsePhiRegularizer(name='SparsePhi', tau=-1000000, dictionary=my_dictionary))\n",
      "level2.fit_offline(batch_vectorizer=batch_vectorizer, num_collection_passes=num_collection_passes)\n",
      "\n",
      "\n",
      "plt.plot(level2.score_tracker[\"PerplexityScore\"].value)\n",
      "\n",
      "for topic_name in level2.topic_names:\n",
      "    print (topic_name + ': '),\n",
      "    for word in level2.score_tracker[\"top_words\"].last_tokens[topic_name]:\n",
      "        print (word),\n",
      "    print\n",
      "\n",
      "print (level2.score_tracker[\"SparsityPhiScore\"].last_value)\n",
      "print (level2.score_tracker[\"SparsityThetaScore\"].last_value)\n",
      "\n",
      "phi = model_Hartm.get_level(2).get_phi()\n",
      "#theta = model_Hartm.get_level(2).get_theta()\n",
      "psi = model_Hartm.get_level(2).get_psi()\n",
      "\n",
      "print(psi.values.max(axis=1).min())"
     ],
     "language": "python",
     "metadata": {},
     "outputs": [
      {
       "output_type": "stream",
       "stream": "stdout",
       "text": [
        "0.742084978379\n",
        "0.0182131325725\n",
        "topic_0: "
       ]
      },
      {
       "output_type": "stream",
       "stream": "stdout",
       "text": [
        " within image area volume imaging left lesion ct right surface cm measurement white field scan\n",
        "topic_1:  "
       ]
      },
      {
       "output_type": "stream",
       "stream": "stdout",
       "text": [
        "pattern range variation density influence length along process strong thus larger upper red environment represents\n",
        "topic_2:  "
       ]
      },
      {
       "output_type": "stream",
       "stream": "stdout",
       "text": [
        "data used different method selection developed large many provided set possible information application approach better\n",
        "topic_3:  "
       ]
      },
      {
       "output_type": "stream",
       "stream": "stdout",
       "text": [
        "cell cellular medium supplemented viability plate intracellular penicillin cytotoxic resuspended streptomycin sem lysis dead viable\n",
        "topic_4:  "
       ]
      },
      {
       "output_type": "stream",
       "stream": "stdout",
       "text": [
        "population individual case hiv year per cost tb high among testing proportion estimate screening art\n",
        "topic_5:  "
       ]
      },
      {
       "output_type": "stream",
       "stream": "stdout",
       "text": [
        "sample assay reaction pcr kit method detected probe detection manufacturer standard cycle extraction extracted primer\n",
        "topic_6:  "
       ]
      },
      {
       "output_type": "stream",
       "stream": "stdout",
       "text": [
        "strain resistance bacterial isolates bacteria culture coli antibiotic pathogen colony host resistant aureus antimicrobial organism\n",
        "topic_7:  "
       ]
      },
      {
       "output_type": "stream",
       "stream": "stdout",
       "text": [
        "type one al et present small specific several material new described could however case side\n",
        "topic_8:  "
       ]
      },
      {
       "output_type": "stream",
       "stream": "stdout",
       "text": [
        "observed form containing analyzed role secondary formation indicating similar determine indicate specific western whereas suggesting\n",
        "topic_9:  "
       ]
      },
      {
       "output_type": "stream",
       "stream": "stdout",
       "text": [
        "mutation region snp genetic genotype allele variant association locus chromosome polymorphism haplotype frequency phenotype exon\n",
        "topic_10:  "
       ]
      },
      {
       "output_type": "stream",
       "stream": "stdout",
       "text": [
        "positive negative sensitivity detection specificity specimen performed detect laboratory gold cf detecting investigation positivity canine\n",
        "topic_11:  "
       ]
      },
      {
       "output_type": "stream",
       "stream": "stdout",
       "text": [
        "sequence dna three pcr genome primer sequencing bp clone plasmid fragment copy nucleotide amplification sp\n",
        "topic_12:  "
       ]
      },
      {
       "output_type": "stream",
       "stream": "stdout",
       "text": [
        "expressed panel role antibody previously either background required similar transfected normalized examined labeled consistent blot\n",
        "topic_13:  "
       ]
      },
      {
       "output_type": "stream",
       "stream": "stdout",
       "text": [
        "clinical diagnostic normal diagnosis presence examination lesion medical value disorder evaluation system feature severity biopsy\n",
        "topic_14:  "
       ]
      },
      {
       "output_type": "stream",
       "stream": "stdout",
       "text": [
        "case disease symptom severe reported common sign report identified caused onset available respiratory confirmed fever\n",
        "topic_15:  "
       ]
      },
      {
       "output_type": "stream",
       "stream": "stdout",
       "text": [
        "receptor differentiation signaling proliferation migration endothelial epithelial tgf adhesion fibroblast actin vegf extracellular molecule primary\n",
        "topic_16:  "
       ]
      },
      {
       "output_type": "stream",
       "stream": "stdout",
       "text": [
        "identified set candidate novel array search identify predicted profile database enrichment s2 generated identification list\n",
        "topic_17:  "
       ]
      },
      {
       "output_type": "stream",
       "stream": "stdout",
       "text": [
        "activity active aggregation ic potential enzyme enzymatic synergistic synergy reversible antagonistic exert inactive potency compound\n",
        "topic_18:  "
       ]
      },
      {
       "output_type": "stream",
       "stream": "stdout",
       "text": [
        "quality trial review information clinical reporting article item guideline author publication recommendation systematic new product\n",
        "topic_19:  "
       ]
      },
      {
       "output_type": "stream",
       "stream": "stdout",
       "text": [
        "model variable score value correlation index table regression coefficient average high relationship measurement ratio curve\n",
        "topic_20:  "
       ]
      },
      {
       "output_type": "stream",
       "stream": "stdout",
       "text": [
        "drug dose mg agent administration oral efficacy kg dos combination effective administered therapeutic therapy placebo\n",
        "topic_21:  "
       ]
      },
      {
       "output_type": "stream",
       "stream": "stdout",
       "text": [
        "analysis number result size obtained one calculated based distribution le single new least s1 multiple\n",
        "topic_22:  "
       ]
      },
      {
       "output_type": "stream",
       "stream": "stdout",
       "text": [
        "research question paper community user respondent researcher people issue barrier way work take perception know\n",
        "topic_23:  "
       ]
      },
      {
       "output_type": "stream",
       "stream": "stdout",
       "text": [
        "tissue lung inflammatory inflammation fibrosis collagen neutrophil airway section organ vascular epithelium injury leukocyte pulmonary\n",
        "topic_24:  "
       ]
      },
      {
       "output_type": "stream",
       "stream": "stdout",
       "text": [
        "expression inhibitor apoptosis treatment phosphorylation western effect inhibition human blot kinase transfected treated protein sirna\n",
        "topic_25:  "
       ]
      },
      {
       "output_type": "stream",
       "stream": "stdout",
       "text": [
        "would impact need work support future problem currently often made focus make difficult good context\n",
        "topic_26:  "
       ]
      },
      {
       "output_type": "stream",
       "stream": "stdout",
       "text": [
        "value mean function respectively parameter first curve due unit therefore maximum position increasing deviation expected\n",
        "topic_27:  "
       ]
      },
      {
       "output_type": "stream",
       "stream": "stdout",
       "text": [
        "activation pathway signaling activated actin downstream intracellular mediated regulated activate regulator block translocation regulates regulate\n",
        "topic_28:  "
       ]
      },
      {
       "output_type": "stream",
       "stream": "stdout",
       "text": [
        "incubated treated induced hour vivo medium vitro pb staining mechanism play culture washed following induction\n",
        "topic_29:  "
       ]
      },
      {
       "output_type": "stream",
       "stream": "stdout",
       "text": [
        "brain neuron ad region cortex pd neuronal cortical neural cord motor spinal fa cerebral matter\n",
        "topic_30:  "
       ]
      },
      {
       "output_type": "stream",
       "stream": "stdout",
       "text": [
        "model shown fig current frequency two peak show local power function initial thus transfer rate\n",
        "topic_31:  "
       ]
      },
      {
       "output_type": "stream",
       "stream": "stdout",
       "text": [
        "site within size area distribution number location distance density range across adult field local likely\n",
        "topic_32:  "
       ]
      },
      {
       "output_type": "stream",
       "stream": "stdout",
       "text": [
        "subject training movement speed position duration motor healthy force strength hand walking motion player peak\n",
        "topic_33:  "
       ]
      },
      {
       "output_type": "stream",
       "stream": "stdout",
       "text": [
        "table pone difference four according three considered related similar well five main showed general however\n",
        "topic_34:  "
       ]
      },
      {
       "output_type": "stream",
       "stream": "stdout",
       "text": [
        "increase average state relative small show since due decrease seen c two stable shown short\n",
        "topic_35:  "
       ]
      },
      {
       "output_type": "stream",
       "stream": "stdout",
       "text": [
        "animal rat injection injury intestinal saline injected pig experimental sem vehicle sham fed cage damage\n",
        "topic_36:  "
       ]
      },
      {
       "output_type": "stream",
       "stream": "stdout",
       "text": [
        "growth well compound assay reaction stress ml exposure enzyme determined product medium buffer exposed decreased\n",
        "topic_37:  "
       ]
      },
      {
       "output_type": "stream",
       "stream": "stdout",
       "text": [
        "change increased total significantly increase decreased loss per significant reduced reduction relative early development decrease\n",
        "topic_38:  "
       ]
      },
      {
       "output_type": "stream",
       "stream": "stdout",
       "text": [
        "m channel signal stimulus functional amplitude recording stimulation nerve noise spike connectivity movement electrode pulse\n",
        "topic_39:  "
       ]
      },
      {
       "output_type": "stream",
       "stream": "stdout",
       "text": [
        "activation macrophage inhibitor tnf inhibition lp il6 production cytokine nf il1 activated monocyte induced kinase\n",
        "topic_40:  "
       ]
      },
      {
       "output_type": "stream",
       "stream": "stdout",
       "text": [
        "experiment type presence independent absence similar affected band either dependent indicated contrast required representative affect\n",
        "topic_41:  "
       ]
      },
      {
       "output_type": "stream",
       "stream": "stdout",
       "text": [
        "tree temperature mosquito egg season larva fly insect climate forest environmental feeding km net cattle\n",
        "topic_42:  "
       ]
      },
      {
       "output_type": "stream",
       "stream": "stdout",
       "text": [
        "binding structure interaction residue complex molecule ligand site structural energy chain loop molecular substrate affinity\n",
        "topic_43:  "
       ]
      },
      {
       "output_type": "stream",
       "stream": "stdout",
       "text": [
        "concentration mm temperature nm ph ca water solution release co calcium spectrum ion potential sodium\n",
        "topic_44:  "
       ]
      },
      {
       "output_type": "stream",
       "stream": "stdout",
       "text": [
        "described reduced membrane loss previously complex similar caused direct determine suggest analyzed antibody via fixed\n",
        "topic_45:  "
       ]
      },
      {
       "output_type": "stream",
       "stream": "stdout",
       "text": [
        "mutant wt wildtype vector wild embryo phenotype gfp construct transgenic expressing defect fusion deletion reporter\n",
        "topic_46:  "
       ]
      },
      {
       "output_type": "stream",
       "stream": "stdout",
       "text": [
        "acid ml fraction extract mg mass metabolite column chemical water liquid chromatography phosphate spectrum nitrogen\n",
        "topic_47:  "
       ]
      },
      {
       "output_type": "stream",
       "stream": "stdout",
       "text": [
        "task participant performance visual condition trial memory target stimulus learning experiment session behavior processing object\n",
        "topic_48:  "
       ]
      },
      {
       "output_type": "stream",
       "stream": "stdout",
       "text": [
        "heart cardiac pressure stroke artery vascular blood myocardial ischemic coronary arterial cardiovascular ventricular plaque aortic\n",
        "topic_49:  "
       ]
      },
      {
       "output_type": "stream",
       "stream": "stdout",
       "text": [
        "one standard based comparison possible available term le information profile common example source result measure\n",
        "topic_50:  "
       ]
      },
      {
       "output_type": "stream",
       "stream": "stdout",
       "text": [
        "country area year prevalence transmission case survey household china high national coverage africa south period\n",
        "topic_51:  "
       ]
      },
      {
       "output_type": "stream",
       "stream": "stdout",
       "text": [
        "containing min gel experiment ml tissue buffer product respectively followed collected obtained added condition mixture\n",
        "topic_52:  "
       ]
      },
      {
       "output_type": "stream",
       "stream": "stdout",
       "text": [
        "study risk association subject cohort population men smoking age associated adjusted exposure disease participant current\n",
        "topic_53:  "
       ]
      },
      {
       "output_type": "stream",
       "stream": "stdout",
       "text": [
        "renal kidney diabetic hypertension diabetes urinary ckd creatinine egfr urine hf glomerular dialysis dl statin\n",
        "topic_54:  "
       ]
      },
      {
       "output_type": "stream",
       "stream": "stdout",
       "text": [
        "research medicine member medical science scientific communication project international public support family university company u\n",
        "topic_55:  "
       ]
      },
      {
       "output_type": "stream",
       "stream": "stdout",
       "text": [
        "rate incidence event total time period first outcome duration within cohort included secondary le failure\n",
        "topic_56:  "
       ]
      },
      {
       "output_type": "stream",
       "stream": "stdout",
       "text": [
        "protein domain peptide site amino binding subunit motif purified protease recombinant yeast bind core conserved\n",
        "topic_57:  "
       ]
      },
      {
       "output_type": "stream",
       "stream": "stdout",
       "text": [
        "survival outcome followup primary hr hazard status median subgroup overall cox ci received therapy proportional\n",
        "topic_58:  "
       ]
      },
      {
       "output_type": "stream",
       "stream": "stdout",
       "text": [
        "medium surface pb incubation culture plate incubated containing washed grown derived solution ability temperature room\n",
        "topic_59:  "
       ]
      },
      {
       "output_type": "stream",
       "stream": "stdout",
       "text": [
        "also role factor effect function important including mechanism process reported showed involved play interaction expressed\n",
        "topic_60:  "
       ]
      },
      {
       "output_type": "stream",
       "stream": "stdout",
       "text": [
        "weight body food diet intake consumption fat energy dietary fatty supplementation feeding nutritional kg nutrition\n",
        "topic_61:  "
       ]
      },
      {
       "output_type": "stream",
       "stream": "stdout",
       "text": [
        "intervention participant survey practice knowledge given need social information experience student decision education interview training\n",
        "topic_62:  "
       ]
      },
      {
       "output_type": "stream",
       "stream": "stdout",
       "text": [
        "figure compared journal pone show contrast line three shown observation indicate single frequency g003 different\n",
        "topic_63:  "
       ]
      },
      {
       "output_type": "stream",
       "stream": "stdout",
       "text": [
        "estimate individual measure interval sample estimated power bias variance plot statistical threshold error effect linear\n",
        "topic_64:  "
       ]
      },
      {
       "output_type": "stream",
       "stream": "stdout",
       "text": [
        "compared significantly increased higher ratio however showed without stage lower present including statistical early pone\n",
        "topic_65:  "
       ]
      },
      {
       "output_type": "stream",
       "stream": "stdout",
       "text": [
        "group bonferroni differed hoc posthoc betweengroup difference4 difference1 significant2 significant4 difference2 difference0 difference3 blind significant1\n",
        "topic_66:  "
       ]
      },
      {
       "output_type": "stream",
       "stream": "stdout",
       "text": [
        "using method obtained software selected corresponding applied designed obtain widely analyze contains final technique check\n",
        "topic_67:  "
       ]
      },
      {
       "output_type": "stream",
       "stream": "stdout",
       "text": [
        "response challenge respond elicit responded responsiveness responding responder magnitude stimulated attenuated induction eliciting explain modulation\n",
        "topic_68:  "
       ]
      },
      {
       "output_type": "stream",
       "stream": "stdout",
       "text": [
        "treated induced induction mitochondrial ro death stress er damage oxidative normal mitochondrion cellular induce accumulation\n",
        "topic_69:  "
       ]
      },
      {
       "output_type": "stream",
       "stream": "stdout",
       "text": [
        "cost system physician hospital medication visit medical practice management emergency clinic included setting record nurse\n",
        "topic_70:  "
       ]
      },
      {
       "output_type": "stream",
       "stream": "stdout",
       "text": [
        "health care program service medical facility public physician access family worker medicine home healthcare community\n",
        "topic_71:  "
       ]
      },
      {
       "output_type": "stream",
       "stream": "stdout",
       "text": [
        "previously described determined well used performed determine addition prior likely thus absence alone tested would\n",
        "topic_72:  "
       ]
      },
      {
       "output_type": "stream",
       "stream": "stdout",
       "text": [
        "membrane staining nucleus stained section secondary nuclear primary fixed marker day immunofluorescence min localization representative\n",
        "topic_73:  "
       ]
      },
      {
       "output_type": "stream",
       "stream": "stdout",
       "text": [
        "rate figure system two process e thus n due p lead experimental end b mechanism\n",
        "topic_74:  "
       ]
      },
      {
       "output_type": "stream",
       "stream": "stdout",
       "text": [
        "network cluster class component node matrix degree structure clustering based graph link similarity global relationship\n",
        "topic_75:  "
       ]
      },
      {
       "output_type": "stream",
       "stream": "stdout",
       "text": [
        "parameter model simulation dynamic probability state input r fig constant equation space scenario property case\n",
        "topic_76:  "
       ]
      },
      {
       "output_type": "stream",
       "stream": "stdout",
       "text": [
        "condition growth light period cm cycle th calculated environment controlled indicates growing physiological nitrogen supply\n",
        "topic_77:  "
       ]
      },
      {
       "output_type": "stream",
       "stream": "stdout",
       "text": [
        "culture stem cultured progenitor passage isolated vitro differentiation staining vivo proliferation percentage stained cytometry differentiated\n",
        "topic_78:  "
       ]
      },
      {
       "output_type": "stream",
       "stream": "stdout",
       "text": [
        "study journal found reported included conducted potential recent assessed overall ass low identified design limitation\n",
        "topic_79:  "
       ]
      },
      {
       "output_type": "stream",
       "stream": "stdout",
       "text": [
        "woman factor sex among prevalence use status gender yes male characteristic female health category history\n",
        "topic_80:  "
       ]
      },
      {
       "output_type": "stream",
       "stream": "stdout",
       "text": [
        "region population individual variation pattern genetic selection diversity among fitness female st black natural proportion\n",
        "topic_81:  "
       ]
      },
      {
       "output_type": "stream",
       "stream": "stdout",
       "text": [
        "mouse liver animal per hepatic ko kidney c57bl injection injected transplantation hypoxia rat cardiac hepatocytes\n",
        "topic_82:  "
       ]
      },
      {
       "output_type": "stream",
       "stream": "stdout",
       "text": [
        "time change phase point first initial series expected observation course delay given respectively second affect\n",
        "topic_83:  "
       ]
      },
      {
       "output_type": "stream",
       "stream": "stdout",
       "text": [
        "score symptom social disorder depression item mental physical cognitive anxiety alcohol measure life disability questionnaire\n",
        "topic_84:  "
       ]
      },
      {
       "output_type": "stream",
       "stream": "stdout",
       "text": [
        "formation fluorescence microscopy image signal microscope fluorescent bar red vivo intensity morphology labeled particle stage\n",
        "topic_85:  "
       ]
      },
      {
       "output_type": "stream",
       "stream": "stdout",
       "text": [
        "infection infected viral parasite host hiv1 hcv load replication hbv infectious hepatitis immune uninfected cd4\n",
        "topic_86:  "
       ]
      },
      {
       "output_type": "stream",
       "stream": "stdout",
       "text": [
        "patient disease clinical diagnosis acute chronic cohort characteristic severe severity diagnosed failure pulmonary median progression\n",
        "topic_87:  "
       ]
      },
      {
       "output_type": "stream",
       "stream": "stdout",
       "text": [
        "control repeated iq could1 mean4 mean1 copy dimer catabolism boiled fluorescent apc chemical worsened utilize\n",
        "topic_88:  "
       ]
      },
      {
       "output_type": "stream",
       "stream": "stdout",
       "text": [
        "high min well production amount determined content minute addition material produced carried measured showed uptake\n",
        "topic_89:  "
       ]
      },
      {
       "output_type": "stream",
       "stream": "stdout",
       "text": [
        "bone eye layer surface segment side head thickness retinal lateral section posterior anterior joint distal\n",
        "topic_90:  "
       ]
      },
      {
       "output_type": "stream",
       "stream": "stdout",
       "text": [
        "antibody serum igg rabbit monoclonal goat antigen polyclonal expressed anti buffer bsa conjugated blocking incubated\n",
        "topic_91:  "
       ]
      },
      {
       "output_type": "stream",
       "stream": "stdout",
       "text": [
        "line detected specific followed signal described bar revealed representative generation contrast nuclear efficiency previously resulted\n",
        "topic_92:  "
       ]
      },
      {
       "output_type": "stream",
       "stream": "stdout",
       "text": [
        "gene family genome sequence read member position sequencing transcript analysis functional conserved coding cluster go\n",
        "topic_93:  "
       ]
      },
      {
       "output_type": "stream",
       "stream": "stdout",
       "text": [
        "time week hour minute fig protocol exposure pone procedure surgery min flow use assessed body\n",
        "topic_94:  "
       ]
      },
      {
       "output_type": "stream",
       "stream": "stdout",
       "text": [
        "set method feature algorithm map distance pair information correlation prediction dataset classification accuracy threshold distribution\n",
        "topic_95:  "
       ]
      },
      {
       "output_type": "stream",
       "stream": "stdout",
       "text": [
        "may result shown however finding associated could therefore previous whether within addition used suggest although\n",
        "topic_96:  "
       ]
      },
      {
       "output_type": "stream",
       "stream": "stdout",
       "text": [
        "effect difference significant test condition subject four presented greater whether ability main target tested interaction\n",
        "topic_97:  "
       ]
      },
      {
       "output_type": "stream",
       "stream": "stdout",
       "text": [
        "level serum plasma elevated measured vitamin biomarkers deficiency measurement iron crp ng marker circulating csf\n",
        "topic_98:  "
       ]
      },
      {
       "output_type": "stream",
       "stream": "stdout",
       "text": [
        "cd4 cytokine immune ifn cd8 lymphocyte dc il10 donor spleen antigen subset recipient nk tcell\n",
        "topic_99:  "
       ]
      },
      {
       "output_type": "stream",
       "stream": "stdout",
       "text": [
        "expression gene rna mrna pathway transcription promoter target involved expressed cdna transcript development regulation probe\n",
        "topic_100:  "
       ]
      },
      {
       "output_type": "stream",
       "stream": "stdout",
       "text": [
        "two first second even still since due thus therefore long taken event much third cannot\n",
        "topic_101:  "
       ]
      },
      {
       "output_type": "stream",
       "stream": "stdout",
       "text": [
        "also may use could important likely strategy part general intervention development especially despite discussion reason\n",
        "topic_102:  "
       ]
      },
      {
       "output_type": "stream",
       "stream": "stdout",
       "text": [
        "journal risk reported al et found included low trial outcome evidence quality identified report criterion\n",
        "topic_103:  "
       ]
      },
      {
       "output_type": "stream",
       "stream": "stdout",
       "text": [
        "marker skin peripheral pc ssc cutaneous tp whisker mann whitney nl aca using4 study5 x10\n",
        "topic_104:  "
       ]
      },
      {
       "output_type": "stream",
       "stream": "stdout",
       "text": [
        "treatment following month baseline therapy treated duration recorded reduction received prior arm active surgery improvement\n",
        "topic_105:  "
       ]
      },
      {
       "output_type": "stream",
       "stream": "stdout",
       "text": [
        "male female glucose muscle diabetes insulin bmi mass adult body metabolic exercise obesity cholesterol lipid\n",
        "topic_106:  "
       ]
      },
      {
       "output_type": "stream",
       "stream": "stdout",
       "text": [
        "specie plant water leaf soil fish community abundance root site habitat seed environmental bird diversity\n",
        "topic_107:  "
       ]
      },
      {
       "output_type": "stream",
       "stream": "stdout",
       "text": [
        "virus antibody vaccine influenza vaccination antigen igg titer epitope viral ha immunization elisa protection immune\n",
        "topic_108:  "
       ]
      },
      {
       "output_type": "stream",
       "stream": "stdout",
       "text": [
        "journal low high potential found evidence recent report limited overall higher primary potentially lower discussion\n",
        "topic_109:  "
       ]
      },
      {
       "output_type": "stream",
       "stream": "stdout",
       "text": [
        "year age mortality month death hospital male due older hospitalization cause female baseline aged admission\n",
        "topic_110:  "
       ]
      },
      {
       "output_type": "stream",
       "stream": "stdout",
       "text": [
        "day week period hour daily post received longterm weekly occurred prolonged mp course delayed prior\n",
        "topic_111:  "
       ]
      },
      {
       "output_type": "stream",
       "stream": "stdout",
       "text": [
        "metabolism enzyme metabolic amino biosynthesis transport encoding putative transporter cellular translation abundance synthase conversion synthesis\n",
        "topic_112:  "
       ]
      },
      {
       "output_type": "stream",
       "stream": "stdout",
       "text": [
        "sample human total blood performed collected normal protocol healthy recently test university count laboratory measured\n",
        "topic_113:  "
       ]
      },
      {
       "output_type": "stream",
       "stream": "stdout",
       "text": [
        "cancer tumor survival breast metastasis carcinoma chemotherapy prostate invasion gastric egfr colon pancreatic cervical malignant\n",
        "topic_114:  "
       ]
      },
      {
       "output_type": "stream",
       "stream": "stdout",
       "text": [
        "pone table factor however associated characteristic finding clinical although according considered several including disease major\n",
        "topic_115:  "
       ]
      },
      {
       "output_type": "stream",
       "stream": "stdout",
       "text": [
        "found might although form without however human well part many reported e either major order\n",
        "topic_116:  "
       ]
      },
      {
       "output_type": "stream",
       "stream": "stdout",
       "text": [
        "observed mean following similar shown consistent whether individual suggest either increase difference could line statistical\n",
        "topic_117:  "
       ]
      },
      {
       "output_type": "stream",
       "stream": "stdout",
       "text": [
        "test significant based n testing laboratory included reported method respectively criterion screening research center university\n",
        "topic_118:  "
       ]
      },
      {
       "output_type": "stream",
       "stream": "stdout",
       "text": [
        "child woman hospital mortality malaria birth pregnancy death maternal infant delivery mother parent respiratory sepsis\n",
        "topic_119:  "
       ]
      },
      {
       "output_type": "stream",
       "stream": "stdout",
       "text": [
        "age participant status association variable physical sex gender school men older sleep student education medication\n",
        "0.958478097387\n",
        "0.0455317467929\n",
        "0.0472512"
       ]
      },
      {
       "output_type": "stream",
       "stream": "stdout",
       "text": [
        "\n"
       ]
      },
      {
       "metadata": {},
       "output_type": "display_data",
       "png": "[encoded data removed]",
       "text": [
        "<matplotlib.figure.Figure at 0x7f204f6b03d0>"
       ]
      }
     ],
     "prompt_number": 10
    },
    {
     "cell_type": "code",
     "collapsed": false,
     "input": [
      "psi = model_Hartm.get_level(2).get_psi()\n",
      "\n",
      "print(psi.values.max(axis=1).min())"
     ],
     "language": "python",
     "metadata": {},
     "outputs": [
      {
       "output_type": "stream",
       "stream": "stdout",
       "text": [
        "0.0472512\n"
       ]
      }
     ],
     "prompt_number": 11
    },
    {
     "cell_type": "code",
     "collapsed": false,
     "input": [
      "print(psi.values.max(axis=1))"
     ],
     "language": "python",
     "metadata": {},
     "outputs": [
      {
       "output_type": "stream",
       "stream": "stdout",
       "text": [
        "[ 0.99964291  0.23698519  0.38082564  0.81892705  0.999605    0.3192144\n",
        "  0.99997193  0.21303259  0.23296703  1.          0.17615771  0.99995798\n",
        "  0.2072764   0.36953488  0.14825177  0.99984324  0.3447358   0.06983771\n",
        "  0.33442006  0.6838482   0.28664014  0.86321229  0.5358867   0.42532894\n",
        "  0.67730927  0.38251531  0.46999818  0.14606884  0.67613316  0.50236195\n",
        "  0.28629211  0.54573333  0.22629918  0.23014161  0.28956601  0.96782976\n",
        "  0.44023389  0.85367572  0.49763808  0.28454414  0.14305402  0.35631898\n",
        "  0.99997902  0.99995542  0.22373852  0.99967563  0.12859286  0.77360654\n",
        "  0.65850234  0.61282772  0.99940175  0.49129683  0.69110727  0.34147865\n",
        "  0.44241336  0.40816388  0.99914002  0.1626936   0.18377535  0.93002355\n",
        "  0.28244889  0.53552413  0.20592792  0.3160567   0.37549809  0.13310272\n",
        "  0.10009996  0.04725122  0.13354543  0.12974745  0.99921709  0.26709083\n",
        "  0.35597888  0.3717576   0.23174816  0.99902356  0.14143991  0.18101919\n",
        "  0.28545338  0.29359841  0.45413595  0.55807918  0.2846224   0.35605124\n",
        "  0.28777236  0.4539142   0.99938405  0.09838088  0.37698081  0.99986875\n",
        "  0.17150921  0.18841508  0.55298579  0.99598789  0.76736391  0.17293552\n",
        "  0.72540218  0.99810988  0.9995327   0.99950492  0.25094059  0.61708361\n",
        "  0.69646496  0.06697092  0.51179147  0.71755099  0.64368105  0.49532795\n",
        "  0.10738485  0.38907763  0.20156831  0.09582072  0.75686359  0.9999997\n",
        "  0.62423849  0.30519828  0.22330478  0.38762331  0.99999446  0.64393282]\n"
       ]
      }
     ],
     "prompt_number": 12
    },
    {
     "cell_type": "code",
     "collapsed": false,
     "input": [
      "model_Hartm.save(\"hierarhical_model\")"
     ],
     "language": "python",
     "metadata": {},
     "outputs": [],
     "prompt_number": 13
    }
   ],
   "metadata": {}
  }
 ]
}