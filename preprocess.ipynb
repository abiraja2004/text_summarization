{
 "cells": [
  {
   "cell_type": "code",
   "execution_count": 14,
   "metadata": {
    "collapsed": false
   },
   "outputs": [],
   "source": [
    "import pandas\n",
    "import pickle\n",
    "import ftfy\n",
    "from nltk.stem import WordNetLemmatizer\n",
    "\n",
    "data = pandas.read_csv(\"/home/dzhelonkin/Downloads/no_spec_topic_articles.csv\", encoding='ISO-8859-1')"
   ]
  },
  {
   "cell_type": "code",
   "execution_count": 346,
   "metadata": {
    "collapsed": true
   },
   "outputs": [],
   "source": [
    "path = '/home/dzhelonkin/bigartm/'"
   ]
  },
  {
   "cell_type": "code",
   "execution_count": 307,
   "metadata": {
    "collapsed": false
   },
   "outputs": [],
   "source": [
    "# process authors\n",
    "authors = data['author']\n",
    "authors = [re.sub('[^0-9a-zA-Z ;]+', '', str(s)) for s in authors]\n",
    "with open(path+\"authors.txt\", 'w') as f:\n",
    "    for a in authors:\n",
    "        f.write(a+'\\n')\n",
    "authors = [i.lower().split('; ') for i in authors] # .split('; ')\n",
    "with open(path+\"authors.pickle2\", 'wb') as f:\n",
    "    pickle.dump(authors, f, protocol=2)\n",
    "with open(path+\"authors.pickle3\", 'wb') as f:\n",
    "    pickle.dump(authors, f, protocol=3)"
   ]
  },
  {
   "cell_type": "code",
   "execution_count": 352,
   "metadata": {
    "collapsed": true
   },
   "outputs": [],
   "source": [
    "def process(data, name, save=True):\n",
    "    print('work with', name)\n",
    "    print('ftfy stage')\n",
    "    tmp = [ftfy.fix_text(i, normalization='NFKC') for i in data]\n",
    "    print('regexp stage')\n",
    "    tmp = [re.sub('''[*%()\\/\\+=<>–\\\\°:;,.?{}&^$@!~`±«»\"']+''', '', s) for s in tmp]\n",
    "    tmp = [re.sub(' [0-9:∶]+ ', ' ', s) for s in tmp]\n",
    "    tmp = [re.sub(' [0-9a-zA-Z ] ', ' ', s) for s in tmp]\n",
    "    tmp = [re.sub(' [ ]+', ' ', s) for s in tmp]\n",
    "    stop = set(stopwords.words('english'))\n",
    "    ans = ['' for i in tmp]\n",
    "    c = -1\n",
    "    wnl = WordNetLemmatizer()\n",
    "    print('stopwords and WordNetLemmatizer stage')\n",
    "    for t in tmp:\n",
    "        c +=1\n",
    "        if c%3000 == 0:\n",
    "            print(c)\n",
    "        for w in t.split(' '):\n",
    "            if w != '':\n",
    "                w = w.lower()\n",
    "                if w not in stop:\n",
    "                    ans[c] += wnl.lemmatize(w)+' '\n",
    "\n",
    "    if save:\n",
    "        print('save stage')\n",
    "        with open(path+name+\".pickle2\", 'wb') as f:\n",
    "            pickle.dump(new_ab, f, protocol=2)\n",
    "        with open(path+name+\".pickle3\", 'wb') as f:\n",
    "            pickle.dump(new_ab, f, protocol=3)\n",
    "        with open(path+name+\".txt\", 'w') as f:\n",
    "            for text in new_ab:\n",
    "                f.write(text+'\\n')\n",
    "            \n",
    "    return ans"
   ]
  },
  {
   "cell_type": "code",
   "execution_count": 263,
   "metadata": {
    "collapsed": true
   },
   "outputs": [],
   "source": [
    "# process bodies\n",
    "bodies = data['body']\n",
    "pattern_delim = re.compile(r'\\[.+?\\]')\n",
    "texts = [pattern_delim.sub('', i) for i in bodies]\n",
    "pattern_delim = re.compile(r'\\(.+?\\)')\n",
    "texts = [pattern_delim.sub('', i) for i in texts]\n",
    "process(data=texts, name='bodies', save=True)"
   ]
  },
  {
   "cell_type": "code",
   "execution_count": 353,
   "metadata": {
    "collapsed": false
   },
   "outputs": [
    {
     "name": "stdout",
     "output_type": "stream",
     "text": [
      "work with abstracts\n",
      "ftfy stage\n",
      "regexp stage\n",
      "stopwords and WordNetLemmatizer stage\n",
      "0\n",
      "3000\n",
      "6000\n",
      "9000\n",
      "12000\n",
      "15000\n",
      "18000\n",
      "save stage\n"
     ]
    }
   ],
   "source": [
    "# process abstracts\n",
    "ans = process(data=data['abstract'], name='abstracts', save=True)"
   ]
  },
  {
   "cell_type": "code",
   "execution_count": 356,
   "metadata": {
    "collapsed": false
   },
   "outputs": [
    {
     "name": "stdout",
     "output_type": "stream",
     "text": [
      "work with titles\n",
      "ftfy stage\n",
      "regexp stage\n",
      "stopwords and WordNetLemmatizer stage\n",
      "0\n",
      "3000\n",
      "6000\n",
      "9000\n",
      "12000\n",
      "15000\n",
      "18000\n",
      "save stage\n"
     ]
    }
   ],
   "source": [
    "# process titles\n",
    "ans = process(data=data['title'], name='titles', save=True)"
   ]
  },
  {
   "cell_type": "code",
   "execution_count": null,
   "metadata": {
    "collapsed": true
   },
   "outputs": [],
   "source": []
  }
 ],
 "metadata": {
  "kernelspec": {
   "display_name": "Python 3",
   "language": "python",
   "name": "python3"
  },
  "language_info": {
   "codemirror_mode": {
    "name": "ipython",
    "version": 3
   },
   "file_extension": ".py",
   "mimetype": "text/x-python",
   "name": "python",
   "nbconvert_exporter": "python",
   "pygments_lexer": "ipython3",
   "version": "3.5.2"
  }
 },
 "nbformat": 4,
 "nbformat_minor": 1
}
